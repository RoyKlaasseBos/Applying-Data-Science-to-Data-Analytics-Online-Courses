{
 "cells": [
  {
   "cell_type": "markdown",
   "metadata": {},
   "source": [
    "<img src=\"https://image.ibb.co/eEk5sb/jads_logo.png\" alt=\"jads_logo\" border=\"0\"  width=500>\n",
    "\n",
    "<h1 align=center> Introduction to Machine Learning (JBP040) </h1>\n",
    "<h2 align=center> Applying Data Science to Data & Analytics Online Courses </h2>\n",
    "\n",
    "<h3 align=center> December 5, 2017</h3>\n",
    "<hr>"
   ]
  },
  {
   "cell_type": "markdown",
   "metadata": {},
   "source": [
    "<h2>1. Problem Explanation</h2>"
   ]
  },
  {
   "cell_type": "markdown",
   "metadata": {},
   "source": [
    "<div align=\"justify\" style=\"width:95%;\">\n",
    "<h3>1.1 Introduction</h3>\n",
    "<p><i>In recent years online education has taken a flight: universities throughout the world have published their Massive Online Open Courses (MOOCs) on platforms such as Coursera and edX. While aforementioned platforms offer academics an online stage, other platforms can be described as marketplaces where basically anyone can become an online instructor. One example of such a platform is Udemy which offers more than 55,000 courses, just hit the 15-million students mark and is still growing rapidly (Figure 1).</i></p></div>"
   ]
  },
  {
   "cell_type": "markdown",
   "metadata": {},
   "source": [
    "<div>\n",
    "    <img src=\"GoogleTrends.png\" width=800px align=left/>\n",
    "</div>\n",
    "<caption><center><i> Figure 1: Google Search Trends for ”Udemy” (2012-2017)</i></center></caption>"
   ]
  },
  {
   "cell_type": "markdown",
   "metadata": {},
   "source": [
    "<div align=\"justify\" style=\"width:95%;\"><i>This rise in popularity also comes with new challenges. Due to network effects and increased student demand platforms attract more and more creators which makes it for teachers even more challenging to differentiate from the many already existing courses. Creating a course from scratch requires a significant upfront time investment while the final pay-off remains uncertain. Teachers can therefore benefit from insights into what course characteristics are positively related to the average star rating and what makes a \"best-seller\" course. From a commercial standpoint platforms can also benefit from these insights. For example, to determine what courses to promote on their homepage. Further, Udemy has an interest in keeping students satisfied which becomes directly apparent from the many course reviews. By analysing and finding patterns in the abundance of reviews, they can support teachers in improving their current courses and developing even better ones in the future.</i></div>"
   ]
  },
  {
   "cell_type": "markdown",
   "metadata": {},
   "source": [
    "<h3>1.2 Project Scope </h3>\n",
    "<div align=\"justify\" style=\"width:95%; margin-top:10px\">\n",
    "One’s judgement about the quality of an online course is very subjective and related to infinitely many factors. This project solely focuses on directly scrapeable attributes from a Udemy course page. In other words, essential characteristics of a well-designed course such as the quality of the sound, video, presenter slides and the overall teaching style will be out of scope. Neither external effects such as course promotion on social media by the teacher will be taken into account. For an overview of all available features see <i>Appendix A</i>.\n",
    "Moreover, the dataset exclusively consists of Udemy courses from the Data & Analytics subcategory. That is to say, the results may not generalize over all types of course categories.</div>"
   ]
  },
  {
   "cell_type": "markdown",
   "metadata": {},
   "source": [
    "<h3>1.3 Research Question</h3>\n",
    "\n",
    "<div align=\"justify\" style=\"width:95%; margin-top: 10px\">This project has been structured in such a way that both descriptive and predictive questions will be addressed. The overarching research theme can be translated into two main questions: **to what extent can the course star review be predicted based on directly scrapeable course characteristics and teachers' prior activities on the teaching marketplace (1), what makes a best-seller course in the Data & Analytics subcategory (2) and to what extent can the sentiment of a course review (positive/negative) be predicted based on text features (3)?**\n",
    "<br/><br/>The corresponding predictive models will be complemented with actionable descriptive insights into the platform dynamics which can support (aspiring) teachers to create high ranking, potentially best-seller, online courses. \n",
    "\n",
    "<br/>\n",
    "<h3>1.3.1 Hypotheses</h3><br/>\n",
    "In line with these research questions, the dependent variable in the hypotheses below is associated with either the course rating or the number of students enrolled in the course. Best-selling products are generally sold in large quantities, it is therefore expected that best-seller courses have a high student count. The reverse effect is also expected: independent variables related to the number of students enrolled indirectly contribute to a best-seller course classification. <br/><br/>\n",
    "\n",
    "\n",
    "<b>Free / Paid Courses</b><br/>\n",
    "Unique to Udemy's marketplace is the supply of both paid and free courses, especially because the categories are mutually exclusive: courses are either free or paid. Some of the courses (including all supplementary resources) are 100% open to the public. The content of paid courses, on the other hand, cannot be accessed for free (except for a few preview videos).<br/>\n",
    "\n",
    "<img src=\"2017_11_29_Free_Paid.jpg\" />\n",
    "<caption><center><i> Figure 2: Free and paid Python course</i></center></caption>\n",
    "\n",
    "Given this mix of free and paid courses, during comparison shopping potential students will come across courses which may seem identical on the surface. For example, see the two Python courses depicted in the image above: the content and length seem about equal, except for the difference in price. Hence, it is expected that <i>the number of students enrolled in free courses is significantly higher than for paid courses (H1)</i>, because of the following reasons: First, some students are simply not willing to pay for online courses or their available budget doesn't allow them to. Second, in many cases there are free alternatives available on Udemy or elsewhere on the internet. Third, there aren't any financial consequences associated with enrolling in a free course: students can start a free course first and decide to purchase a paid alternative at a later stage without any regret.<br/>\n",
    "\n",
    "Similarly, it is expected that <i>free courses get a higher course evaluation (H2) </i> because students have not paid anything for it which in turn might lower their expectations. In practice this could result in a more lenient attitude towards the instructor in terms of the course evaluation.\n",
    "<br/>\n",
    "<hr>"
   ]
  },
  {
   "cell_type": "markdown",
   "metadata": {},
   "source": [
    "<b>Number of Courses Previously Created</b><br/>\n",
    "On the course page one or more instructors are listed with their personal statistics (average rating, total number of reviews/students/courses). In the process of publishing multiple courses a teacher gains more experience over time and can implement students' feedback from previous courses. That is why it is expected that <i> the number of courses previously created by the instructor is positively related to the average course rating for the current course (H3).</i> "
   ]
  },
  {
   "cell_type": "markdown",
   "metadata": {},
   "source": [
    "<img src=\"2017_11_29_Course_Statistics.png\" width=\"65%\" align=\"left\"/>\n",
    "<p style=\"clear: both\"><caption><i> Figure 3: Instructor course statistics</i></caption></p>"
   ]
  },
  {
   "cell_type": "markdown",
   "metadata": {},
   "source": [
    "Additionally, instructors with an existing customer base - thanks to previous course releases - can promote upcoming courses among their current students. In practice instructors often send a promotional email in which they announce a new course (Figure 4). The recipients of this email showed interest in the teacher's course in the past, which makes them more likely to purchase again. This is based on the notion that up-selling current customers is more effective than acquiring new ones. For those reasons, it is also hypothesized that <i> the number of courses previously created is positively related to the number of enrolments for a given course (H4).</i> Note that this effect may be partially mediated by the size of the existing customer base (i.e. the number of students enrolled in other courses)."
   ]
  },
  {
   "cell_type": "markdown",
   "metadata": {},
   "source": [
    "<img src=\"2017_11_29_Promotional_Announcement.png\" width=\"40%\" align=\"left\"/>\n",
    "<br/>\n",
    "<p style=\"clear: both\"><caption><i> Figure 4: Promotional Announcement (by email)</i></caption></p>"
   ]
  },
  {
   "cell_type": "markdown",
   "metadata": {},
   "source": [
    "<hr>\n",
    "<b>Hours of Video Content</b><br/>\n",
    "As depicted in Figure 2 the number of hours of video content is clearly displayed on Udemy's search results page. In the decision-process of selecting a course, students can interpret this figure as an indication of the value they get out of the course. As courses are oftentimes priced equally, students may prefer a longer over a shorter course. Because of that, <i>a positive relationship is hypothesized between the hours of video content and the number of students enrolled in paid courses (H5).</i>"
   ]
  },
  {
   "cell_type": "markdown",
   "metadata": {},
   "source": [
    "<hr>\n",
    "<b>Discount</b><br/>\n",
    "The majority of courses on Udemy are on sale throughout the year. Although the discount rate varies over time, the actual price is regularly significantly lower than the original course price (e.g. see Figure 5). It could be argued that the original course price (in combination with the \"3 hours left\" message) urges potential students to act fast before the price goes up again. This effect may be even stronger for higher discounts. For example, the financial loss of missing out on the discount in Figure 5 is €183. If the original course price is lower, suppose €20, the potential loss is only €8 which encourages the purchase-decision to a lesser extent.\n",
    "\n",
    "In short, <i> a positive relationship is expected between the discount - defined as the absolute difference in euros between the original and current price - and the number of students enrolled (H6)</i>."
   ]
  },
  {
   "cell_type": "markdown",
   "metadata": {},
   "source": [
    "<img src=\"2017_11_29_Discount.png\" width=\"70%\" align=\"left\"/>\n",
    "<br/>\n",
    "<p style=\"clear: both\"><caption><i> Figure 5: Example of a course priced at a steep discount (now: €12; original-price: €195)</i></caption></p>"
   ]
  },
  {
   "cell_type": "markdown",
   "metadata": {},
   "source": [
    "<hr>\n",
    "<b>English Language / Captions </b><br/>\n",
    "The teaching marketplace, Udemy, welcomes anyone across the globe to create an online course. Consequently, instructors have a variety of nationalities, though the majority of courses are still being taught in English. That's not to say, it's the only language, in fact: the Data & Analytics sample contains 11 unique languages including Chinese and Spanish. Even though the latter might be higher on the list of most spoken languages in the world, Udemy's customer base seems to consist of mainly US-based citizens aged between 21 and 54 ([Udemy, 2016](https://about.udemy.com/instructors/2016-learning-trends-on-udemy/)). Hence, the potential market size for Udemy courses is highest for courses taught in English. On a similar note, non-US citizens - who do not fully master the English language - may benefit from (custom) English captions, so that they can better understand the video material. For example, see Figure 6 for an email where the Udemy instructor acknowledges the importance of subtitles. Note, that captions are auto-generated for all English spoken courses. As such, we specifically refer to *custom* captions since they are generally more accurate in terms of transcription.\n",
    "\n",
    "Given these reasonings, we expect that <i>courses taught in English and/or which contain custom English captions have a significantly higher student count (H7)</i>. "
   ]
  },
  {
   "cell_type": "markdown",
   "metadata": {},
   "source": [
    "<img src=\"2017_12_01_Subtitles.png\" width=\"35%\" align=\"left\"/>\n",
    "<br/>\n",
    "<p style=\"clear: both\"><caption><i> Figure 6: Email from Tim Buchalka about problems with subtitles in his courses </i></caption></p>"
   ]
  },
  {
   "cell_type": "markdown",
   "metadata": {},
   "source": [
    "<hr>\n",
    "<b>Top Responder</b><br/>\n",
    "In addition to the \"Best-seller\" label, Udemy also used to award teachers who were very active on the course-specific forum the \"Top Responder\" label. Those teachers typically answered many questions raised by the students within a relatively short amount of time. This label could build trust among potential students and thus lead to higher sales. The corresponding hypothesis is therefore: <i>there are significantly more students enrolled in courses which are being taught by an instructor classified as top responder (H8).</i> <br />\n",
    "\n",
    "Note, the \"Top Responder\" label seems to be entirely removed from all course pages at the moment of writing (29th of November 2017). Although this may be true, the data set collected at the 10th of November still contains the attribute."
   ]
  },
  {
   "cell_type": "markdown",
   "metadata": {},
   "source": [
    "<hr>\n",
    "<b>Course Review</b><br/>\n",
    "Second-last we expect a direct <i>positive relationship between the course review and the number of students enrolled (H9).</i> Figure 2, 3 and 5 all show that the students' evaluation, or average star-rating, is repeatedly shown on the Udemy platform. This is not any different in the promotional emails they send out (Figure 6). It provides transparency to students and insight into the course quality to a certain extent. Simultaneously it serves as social proof: students may be strongly influenced by others' opinions about the course. <br/><br/>\n",
    "As a side-note, the course review as a stand-alone metric can be somewhat misleading. For example, the course in Figure 5 (4.6/5.0 stars; n=1021) may be qualitatively better than a similar 5.0/5.0 rated Python course based on just a single course review. Accordingly, we will also bear in mind the number of reviews to come up with a more reliable measure for the course quality. "
   ]
  },
  {
   "cell_type": "markdown",
   "metadata": {},
   "source": [
    "<img src=\"2017_11_29_Promotional_Email.png\" width=\"70%\" align=\"left\"/>\n",
    "<br/>\n",
    "<p style=\"clear: both\"><caption><i> Figure 7: Example of Udemy's promotional emails containing personal course recommendations</i></caption></p>"
   ]
  },
  {
   "cell_type": "markdown",
   "metadata": {},
   "source": [
    "<hr>\n",
    "<b>Course Review</b><br/>\n",
    "Lastly, it is presumed that students who are unsatisfied about the course quality are more likely to express themselves negatively than students who are satisfied. That is based on the rapidly changing consumer landscape in which the everyday consumer gets a more and more powerful position due to the rise of social media. According to the Guardian ([2015](https://www.theguardian.com/media-network/2015/may/21/customer-complaints-social-media-rise)) there has been an eight-fold increase in customer complaints on social media. The author also states that online platforms are increasingly used by customers to escalate complaints because of its public nature. Since Udemy's reviews are also open to the public and probably read by plenty of interested students, <i>it is hypothesized that negative reviews are accompanied with a more prominent (i.e. longer) description of the complaints compared to positive reviews (H10)</i>."
   ]
  },
  {
   "cell_type": "markdown",
   "metadata": {},
   "source": [
    "---"
   ]
  },
  {
   "cell_type": "markdown",
   "metadata": {},
   "source": [
    "<b>Overview of hypotheses</b> <br />\n",
    "Figure 8 and 9 summarize the hypotheses explained above (except for the last one). It has been assumed the relationships are independent of each other and directly affect the dependent variable."
   ]
  },
  {
   "cell_type": "markdown",
   "metadata": {},
   "source": [
    "<img src=\"2017_12_01_Hypotheses_Number_Enrollments.jpeg\" width=\"70%\" align=\"left\"/>\n",
    "<p style=\"clear: both\"><caption><i> Figure 8: Hypotheses related to number of students enrolled in a course.</i></caption></p>"
   ]
  },
  {
   "cell_type": "markdown",
   "metadata": {},
   "source": [
    "---\n",
    "<img src=\"2017_12_01_Hypotheses_Course_Review.jpeg\" width=\"70%\" align=\"left\"/>\n",
    "<p style=\"clear: both\"><caption><i> Figure 9: Hypotheses related to the average star rating.</i></caption></p>"
   ]
  },
  {
   "cell_type": "markdown",
   "metadata": {},
   "source": [
    "---"
   ]
  },
  {
   "cell_type": "markdown",
   "metadata": {},
   "source": [
    "<h2>2. Data Collection</h2>"
   ]
  },
  {
   "cell_type": "markdown",
   "metadata": {
    "collapsed": true
   },
   "source": [
    "Using [Portia](https://scrapinghub.com/portia) a scraper has been configured to extract the following types of information from different URLs:\n",
    "\n",
    "1. *Course characteristics* (e.g. course name, language, price and many more)\n",
    "2. *Course level* (e.g. Intermediate Level)\n",
    "3. *Teacher statistics* (e.g. total number of courses, average review, total number of students enrolled)\n",
    "4. *Course description* (textual description of the course, prior knowledge, learning objectives and target audience)\n",
    "5. *Course reviews* (course review author, date, rating, review description)\n",
    "\n",
    "For an overview of all the course pages included in our sample (i.e. all Data & Analytics courses at the time of data collection) see this [Github gist](https://gist.github.com/RoyKlaasseBos/6fad73657ed6af60b5ab57498e10c5c0). \n",
    "\n",
    "In the next `code blocks` relevant libraries are imported and aforementioned data files are combined into a datframe called `df`."
   ]
  },
  {
   "cell_type": "markdown",
   "metadata": {},
   "source": [
    "### Import Data & Libraries"
   ]
  },
  {
   "cell_type": "code",
   "execution_count": 119,
   "metadata": {
    "collapsed": true
   },
   "outputs": [],
   "source": [
    "# import data manipulation, data computation and visualisation modules\n",
    "import pandas as pd\n",
    "import matplotlib.pyplot as plt\n",
    "import seaborn as sns\n",
    "import numpy as np\n",
    "import warnings\n",
    "import requests \n",
    "import pickle\n",
    "from math import ceil\n",
    "\n",
    "# show matplotlib plots in Jupyter notebooks\n",
    "% matplotlib inline\n",
    "\n",
    "# suppress warnings\n",
    "\n",
    "warnings.filterwarnings(\"ignore\", category=DeprecationWarning)"
   ]
  },
  {
   "cell_type": "markdown",
   "metadata": {},
   "source": [
    "### Import and Merge data files"
   ]
  },
  {
   "cell_type": "code",
   "execution_count": 120,
   "metadata": {},
   "outputs": [],
   "source": [
    "# import and merge data from multiple data files\n",
    "\n",
    "#  main course characteristics\n",
    "df = pd.read_table('Pages/data_analytics_pages.csv', sep = ',')\n",
    "\n",
    "# course level (beginner, intermediate, advanced, all levels)\n",
    "df_course_level = pd.read_table('Course_level/data_analytics_urls.csv', usecols=[\"Search Course 3_link\", \"Search Course 8\"])\n",
    "df = pd.merge(left=df, right=df_course_level, how=\"outer\", left_on=\"url\", right_on=\"Search Course 3_link\")\n",
    "df.rename(columns={\"Search Course 8\": \"course_level\"}, inplace=True)\n",
    "\n",
    "# teacher statistics\n",
    "df_teacher = pd.read_table('Teacher/data_analytics_teacher.csv', sep=',')\n",
    "df = pd.merge(left=df, right=df_teacher, how=\"outer\", left_on=\"url\", right_on=\"url\")\n",
    "\n",
    "# course description (text)\n",
    "df_text = pd.read_table('Text/data_analytics_text.csv', sep=',').drop(['_type', '_cached_page_id', '_template'], 1)\n",
    "df = pd.merge(left=df, right=df_text, how=\"outer\", left_on=\"url\", right_on=\"url\")"
   ]
  },
  {
   "cell_type": "markdown",
   "metadata": {},
   "source": [
    "### Call Udemy API  and Save as Pickle "
   ]
  },
  {
   "cell_type": "markdown",
   "metadata": {},
   "source": [
    "The analysis has been based on review from a Data & Analytics course which got the most course reviews of all courses within the same subcategory: Machine Learning A-Z™: Hands-On Python & R In Data Science (n=24737). The code blocks below import all required modules (for the entire notebook), call the Udemy 2.0 API and save the rating, text and date of all the reviews as a pickle. Then, the data is converted into a pandas Dataframe."
   ]
  },
  {
   "cell_type": "code",
   "execution_count": 121,
   "metadata": {
    "collapsed": true
   },
   "outputs": [],
   "source": [
    "# get total number of reviews for Machine Learning course ((https://www.udemy.com/machinelearning/)\n",
    "url = \"https://www.udemy.com/api-2.0/courses/950390/reviews/\"\n",
    "r = requests.get(url=url).json()\n",
    "num_reviews = r['count']\n",
    "\n",
    "def open_collection(collection):\n",
    "    with open(collection, \"rb\") as f:\n",
    "        return pickle.load(f)\n",
    "\n",
    "def save_collection(collection, all_pages):\n",
    "    with open(collection, 'wb') as f:\n",
    "            pickle.dump(all_pages, f)\n",
    "            \n",
    "def call_api(per_page, page_number, url):\n",
    "    url = str(url) + \"?page_size=\" + str(per_page) + \"&page=\" + str(page_number)\n",
    "    r = requests.get(url=url).json()\n",
    "    return r\n",
    "    \n",
    "def store_data(url, per_page=100): \n",
    "        # call api for all pages (with a page-size of 100)\n",
    "        all_pages = [call_api(per_page, page_number, url) for page_number in range(1, ceil(num_reviews / per_page) + 1)]\n",
    "\n",
    "        # save data as pickle\n",
    "        save_collection(\"Udemy\", all_pages)\n",
    " \n",
    "# uncomment line below to call API and store \n",
    "# store_data(url)"
   ]
  },
  {
   "cell_type": "code",
   "execution_count": 122,
   "metadata": {
    "collapsed": true
   },
   "outputs": [],
   "source": [
    "# load pickle\n",
    "udemy = open_collection('Udemy')\n",
    "\n",
    "# initalize lists\n",
    "ratings, content, date = [], [], []\n",
    "\n",
    "# extract relevant columns from pickle \n",
    "for page in range(1,len(udemy)):\n",
    "    for review in range(len(udemy[page]['results'])):\n",
    "        ratings.append(udemy[page]['results'][review]['rating'])\n",
    "        content.append(udemy[page]['results'][review]['content']) \n",
    "        date.append(udemy[page]['results'][review]['created'])\n",
    "\n",
    "# store as dataframe\n",
    "reviews = pd.DataFrame({\"rating\": ratings, \"content\": content, \"date\": date})"
   ]
  },
  {
   "cell_type": "markdown",
   "metadata": {},
   "source": [
    "---"
   ]
  },
  {
   "cell_type": "markdown",
   "metadata": {},
   "source": [
    "## 3. Data Cleaning "
   ]
  },
  {
   "cell_type": "markdown",
   "metadata": {},
   "source": [
    "As usual the job of an (aspiring) data scientist largely consists of data cleaning. That is not any different for this project, especially because the data set consists of unstructured data that is composed of both textual and numerical data. In the next `code blocks` the following operations are performed: \n",
    "\n",
    "* Irrelevant columns (that are automatically included by the scraper) are removed\n",
    "* Features are transformed into a numeric, boolean or text data-type (which is a requirement for any data analysis or Machine Learning algorithm). In many cases this comes down to separating text data from numerical data.\n",
    "* Additional features are derived, also known as feature engineering (e.g. `discount`, `english_captions`).\n",
    "* Duplicates due to courses that are taught by multiple instructors are dealt with properly.\n",
    "* Data spread across multiple columns is reorganized. That is because Udemy webpages are dynamic in the sense that some features are not displayed on the course page. Consequently, the order of features on a page (according to the Document Object Model) may differ from record to record. For example, for some records the number of `supplemental_resources` accidentally ended up in the `num_features` column."
   ]
  },
  {
   "cell_type": "code",
   "execution_count": 123,
   "metadata": {
    "collapsed": true
   },
   "outputs": [],
   "source": [
    "# drop irrelvant columns\n",
    "df.drop(['_cached_page_id', '_template', '_type', 'field1', \"url\", \"hours_video_precise\"], axis=1, inplace=True) "
   ]
  },
  {
   "cell_type": "code",
   "execution_count": 124,
   "metadata": {
    "collapsed": true
   },
   "outputs": [],
   "source": [
    "# check if teacher is a top responder (i.e. very active on course forum)\n",
    "df['top_responder'] = [True if x == \"Top-responder\" else False for x in df.top_responder]"
   ]
  },
  {
   "cell_type": "code",
   "execution_count": 125,
   "metadata": {
    "collapsed": true
   },
   "outputs": [],
   "source": [
    "# check if (custom) English captions are available\n",
    "df['english_captions'] = [True if x == \"English\" else False for x in df.captions]\n",
    "df.drop([\"captions\"], axis=1, inplace=True) "
   ]
  },
  {
   "cell_type": "code",
   "execution_count": 126,
   "metadata": {
    "collapsed": true
   },
   "outputs": [],
   "source": [
    "# convert best seller text to boolean\n",
    "df['best_seller'] = [True if x == \"Best Seller\" else False for x in df.best_seller]"
   ]
  },
  {
   "cell_type": "code",
   "execution_count": 127,
   "metadata": {
    "collapsed": true
   },
   "outputs": [],
   "source": [
    "# check if course is paid or free\n",
    "df['paid_course'] = [False if x == \"Price: Free\" else True for x in df.current_price]"
   ]
  },
  {
   "cell_type": "code",
   "execution_count": 128,
   "metadata": {},
   "outputs": [
    {
     "data": {
      "text/plain": [
       "array(['Current price: 10 €', 'Price: Free', 'Price: 35 €',\n",
       "       'Current price: 15 €', 'Price: 75 €', 'Price: 200 €', 'Price: 50 €',\n",
       "       'Price: 85 €', 'Price: 195 €', 'Price: 40 €', 'Current price: 25 €',\n",
       "       'Price: 20 €', 'Price: 95 €', 'Current price: 48 €',\n",
       "       'Current price: 12 €', 'Price: 30 €', 'Price: 150 €', 'Price: 65 €'], dtype=object)"
      ]
     },
     "execution_count": 128,
     "metadata": {},
     "output_type": "execute_result"
    }
   ],
   "source": [
    "# view different pricing levels:\n",
    "df.current_price.unique()"
   ]
  },
  {
   "cell_type": "code",
   "execution_count": 129,
   "metadata": {
    "collapsed": true
   },
   "outputs": [],
   "source": [
    "# convert current price text data to integer data type\n",
    "df.loc[df.current_price.str.contains(\"Current price: \"), \"current_price\"] = df.current_price.str.slice(start=15).str.replace(\" €\", \"\")\n",
    "df.loc[df.current_price.str.contains(\"Price: \"), \"current_price\"] = df.current_price.str.slice(start=7).str.replace(\" €\", \"\")\n",
    "df.loc[df.current_price.str.contains(\"Free\"), \"current_price\"] = \"0\""
   ]
  },
  {
   "cell_type": "code",
   "execution_count": 130,
   "metadata": {
    "collapsed": true
   },
   "outputs": [],
   "source": [
    "# convert original price (without discount) text data to integer data type\n",
    "df.original_price = df.original_price.str.slice(start=15).str.replace(\" €\", \"\")\n",
    "df.loc[df.original_price.isnull() & df.paid_course, \"original_price\"] = df.current_price\n",
    "df.loc[df.original_price.isnull() & ~(df.paid_course), \"original_price\"] = 0"
   ]
  },
  {
   "cell_type": "code",
   "execution_count": 131,
   "metadata": {
    "collapsed": true
   },
   "outputs": [],
   "source": [
    "# select average course rating \n",
    "df['rating_complete'] = df.num_ratings.str[0:3]\n",
    "df.drop('rating', axis=1, inplace=True)"
   ]
  },
  {
   "cell_type": "code",
   "execution_count": 132,
   "metadata": {
    "collapsed": true
   },
   "outputs": [],
   "source": [
    "# select number of ratings\n",
    "for counter in range(len(df)):\n",
    "    df.loc[counter, 'num_ratings'] = df.num_ratings.str.split(\"(\")[counter][1].split(\")\")[0].replace(\" ratings\", \"\").replace(\" rating\", \"\").replace(\",\", \"\")"
   ]
  },
  {
   "cell_type": "code",
   "execution_count": 133,
   "metadata": {
    "collapsed": true
   },
   "outputs": [],
   "source": [
    "# convert students enrolled text data to integer data type\n",
    "df.students_enrolled = df.students_enrolled.str.replace(\"students enrolled\", \"\").str.replace(\"student enrolled\", \"\").str.replace(\",\", \"\").astype(int)"
   ]
  },
  {
   "cell_type": "code",
   "execution_count": 134,
   "metadata": {
    "collapsed": true
   },
   "outputs": [],
   "source": [
    "# fix mixed article and supplemental resources columns\n",
    "index_supplemental_resources = df.loc[df.num_articles.str.contains(\"Supplemental Resource\"), \"num_articles\"].str.replace(\" Supplemental Resource\", \"\").str.replace(\"s\", \"\")\n",
    "\n",
    "for index in index_supplemental_resources.index.values:\n",
    "    df.loc[index, \"supplemental_resources\"] = index_supplemental_resources[index]"
   ]
  },
  {
   "cell_type": "markdown",
   "metadata": {},
   "source": [
    "\n",
    "\n",
    "The column `avg_star_rating` contains the teacher's average star rating across all courses. Hence, the average course rating is re-calculated excluding the current course (since that would be strongly correlated with the dependent variable):\n",
    "\n",
    "*average prior rating = ((total number of courses $\\times$ overall course rating) - course rating current course)/(total number of courses - 1)*\n",
    "\n",
    "For teachers which have published only one course, the mean value of the average prior rating will be taken; to avoid dividing by zero.\n",
    "\n"
   ]
  },
  {
   "cell_type": "code",
   "execution_count": 135,
   "metadata": {
    "collapsed": true
   },
   "outputs": [],
   "source": [
    "# avg prior rating (i.e. the average course rating excluding the current campaign)\n",
    "df.loc[df.total_courses >=2, 'avg_prior_rating'] = (df['total_courses'] * df['avg_star_rating'] - df['rating_complete'].astype(float)) / (df['total_courses'] - 1)\n",
    "df.loc[df.total_courses == 1, 'avg_prior_rating'] = df.loc[df.avg_prior_rating.notnull(), 'avg_prior_rating'].mean()\n",
    "\n",
    "# account for courses without any course reviews\n",
    "df.loc[df.rating_complete == 0.00, 'avg_prior_rating'] = df.loc[df.rating_complete == 0.00, 'avg_star_rating']"
   ]
  },
  {
   "cell_type": "code",
   "execution_count": 136,
   "metadata": {
    "collapsed": true
   },
   "outputs": [],
   "source": [
    "# num articles\n",
    "df.num_articles = df.loc[df.num_articles.str.contains(\"Articles\"), \"num_articles\"].str.replace(\" Articles\", \"\")\n",
    "df.loc[df.num_articles.isnull(), \"num_articles\"] = 0"
   ]
  },
  {
   "cell_type": "code",
   "execution_count": 137,
   "metadata": {
    "collapsed": true
   },
   "outputs": [],
   "source": [
    "# num lectures\n",
    "df.num_lectures = df.num_lectures.str.replace(\" Lectures\", \"\")\n",
    "df.loc[df.num_lectures.isnull(), 'num_lectures'] = 0"
   ]
  },
  {
   "cell_type": "code",
   "execution_count": 138,
   "metadata": {
    "collapsed": true
   },
   "outputs": [],
   "source": [
    "# hours video\n",
    "df.loc[df.hours_video.str.contains(\"Practice Tests\"), \"hours_video\"] = \"0\"\n",
    "df.hours_video = df.hours_video.str.replace(\"hours on-demand video\", \"\").str.replace(\"hour on-demand video\", \"\")\n",
    "df.loc[df.hours_video.str.contains(\" mins on-demand video\"), \"hours_video\"] = df.hours_video.str.replace(\" mins on-demand video\", \"\").astype(float)/60"
   ]
  },
  {
   "cell_type": "code",
   "execution_count": 139,
   "metadata": {
    "collapsed": true
   },
   "outputs": [],
   "source": [
    "# supplemental resources\n",
    "df.supplemental_resources = df.loc[df.supplemental_resources.str.contains(\"Supplemental Resources\"), \"supplemental_resources\"].str.replace(\" Supplemental Resources\", \"\")\n",
    "df.loc[df.supplemental_resources.isnull(), \"supplemental_resources\"] = 0"
   ]
  },
  {
   "cell_type": "code",
   "execution_count": 140,
   "metadata": {
    "collapsed": true
   },
   "outputs": [],
   "source": [
    "# last updated\n",
    "df.last_updated = df.last_updated.str.replace(\"Last updated \", \"\").str.replace(\"Published \", \"\")\n",
    "df['last_updated'] = pd.to_datetime(df['last_updated'], format='%m/%Y')"
   ]
  },
  {
   "cell_type": "code",
   "execution_count": 141,
   "metadata": {
    "collapsed": true
   },
   "outputs": [],
   "source": [
    "# days since last update (where 10th of November is assumed as the starting point)\n",
    "timestamp = pd.to_datetime('11/10/2017')\n",
    "df['time_since_last_update'] = timestamp - df.last_updated \n",
    "df.time_since_last_update = df.time_since_last_update.astype(int)/60/60/24/1000000000\n",
    "df.drop('last_updated', 1, inplace=True)"
   ]
  },
  {
   "cell_type": "code",
   "execution_count": 142,
   "metadata": {
    "collapsed": true
   },
   "outputs": [],
   "source": [
    "# number of instructors\n",
    "df.loc[df['Search Course 3_link'].duplicated(keep=False), :]\n",
    "\n",
    "for counter in range(len(df)):\n",
    "    df.loc[df['Search Course 3_link'] == df.loc[counter, 'Search Course 3_link'], \"num_instructors\"] = df.loc[df['Search Course 3_link'] == df.loc[counter, 'Search Course 3_link']].shape[0]"
   ]
  },
  {
   "cell_type": "code",
   "execution_count": 143,
   "metadata": {
    "collapsed": true
   },
   "outputs": [],
   "source": [
    "# re-calculate (i.e. take the mean of) 'total-reviews', 'total_students', 'total_courses' for duplicate values (due to multiple instructors)\n",
    "mult_instructors = df[df.course_name.duplicated(keep=False)].groupby('course_name')[['total_reviews', 'total_students', 'total_courses']].mean()\n",
    "for course in mult_instructors.index.values:\n",
    "    df.loc[df.course_name == course, ['total_reviews']] = mult_instructors.loc[course][0]\n",
    "    df.loc[df.course_name == course, ['total_students']] = mult_instructors.loc[course][1]\n",
    "    df.loc[df.course_name == course, ['total_courses']] = mult_instructors.loc[course][2]"
   ]
  },
  {
   "cell_type": "code",
   "execution_count": 144,
   "metadata": {
    "collapsed": true
   },
   "outputs": [],
   "source": [
    "# convert data into appropriate datatype\n",
    "df.loc[:,['current_price', 'num_ratings', 'original_price', 'students_enrolled', 'num_lectures', 'supplemental_resources', 'num_instructors', 'num_articles']] = df.loc[:,['current_price', 'num_ratings', 'original_price', 'students_enrolled', 'num_lectures', 'supplemental_resources', 'num_instructors', 'num_articles']].astype(int)\n",
    "df.loc[:,['hours_video', 'rating_complete']] = df.loc[:,['hours_video', 'rating_complete']].astype(float)"
   ]
  },
  {
   "cell_type": "code",
   "execution_count": 145,
   "metadata": {},
   "outputs": [
    {
     "data": {
      "text/plain": [
       "(483, 30)"
      ]
     },
     "execution_count": 145,
     "metadata": {},
     "output_type": "execute_result"
    }
   ],
   "source": [
    "# create data frame without duplicates (due to multiple instructors) \n",
    "df = df[~df.course_name.duplicated()]\n",
    "df[~df.course_name.duplicated()].shape # 483 unique records"
   ]
  },
  {
   "cell_type": "code",
   "execution_count": 146,
   "metadata": {
    "collapsed": true
   },
   "outputs": [],
   "source": [
    "# export data \n",
    "df.to_csv('df_cleaned.csv')"
   ]
  },
  {
   "cell_type": "markdown",
   "metadata": {},
   "source": [
    "## 4. Descriptive Analysis"
   ]
  },
  {
   "cell_type": "markdown",
   "metadata": {},
   "source": [
    "In this chapter the hypotheses as posed in section 1.3.1 will be validated using exploratory data visualisations techniques accompanied with a textual description of the insights gained in these charts. After these related one-on-one relationships have been thoroughly investigated, a multiple linear regression model is used to determine which factors are actually significant when potentially confounders are included.\n",
    "\n",
    "Note that some attributes, such as `students_enrolled`, have extremely divergent values which can lead to distorted charts. That is why the function `interquartile()` has been defined and incorporated in some plots to exclude outliers."
   ]
  },
  {
   "cell_type": "code",
   "execution_count": 147,
   "metadata": {
    "collapsed": true
   },
   "outputs": [],
   "source": [
    "# exclude outliers to get a better visual representation (using Interquartile Range)\n",
    "def interquartile(column):\n",
    "    Q1 = df[column].quantile(0.25)\n",
    "    Q3 = df[column].quantile(0.75)\n",
    "    IQR = Q3 - Q1\n",
    "    upper_level_IQR = Q3 + 1.5 * IQR\n",
    "    lower_level_IQR = Q1 - 1.5 * IQR\n",
    "    return lower_level_IQR, upper_level_IQR"
   ]
  },
  {
   "cell_type": "markdown",
   "metadata": {},
   "source": [
    "### H1 Do free Udemy courses have significantly more students enrolled? "
   ]
  },
  {
   "cell_type": "markdown",
   "metadata": {},
   "source": [
    "The factorplot below and its 95% confidence interval show that free courses indeed have far more students enrolled in general. Apparently, the course price (sometimes as low as €10) can be a reason not to enroll in a course or there may be students who enroll in a free online course simply for the reason that they don't have anything to lose."
   ]
  },
  {
   "cell_type": "code",
   "execution_count": 148,
   "metadata": {},
   "outputs": [
    {
     "data": {
      "image/png": "[encoded data removed]",
      "text/plain": [
       "<matplotlib.figure.Figure at 0x1153a8630>"
      ]
     },
     "metadata": {},
     "output_type": "display_data"
    }
   ],
   "source": [
    "sns.factorplot(x='paid_course', y='students_enrolled', data=df, color='#093b8c')\n",
    "plt.title('Price vs Students enrolled', size=13)\n",
    "plt.ylabel('# Students enrolled')\n",
    "plt.xticks(range(2), ('Free', 'Paid'))\n",
    "plt.xlabel('')\n",
    "plt.show()"
   ]
  },
  {
   "cell_type": "markdown",
   "metadata": {},
   "source": [
    "### H2/H3 Is there a positive relationship between the number of courses created by the teacher and the average star rating / number of students enrolled?"
   ]
  },
  {
   "cell_type": "markdown",
   "metadata": {},
   "source": [
    "The majority of all teachers (50.2%) has published less than 6 courses in total where 1 course is the most common frequency among teachers. There are some extreme outliers though: three teachers have published more than 100 courses.  "
   ]
  },
  {
   "cell_type": "code",
   "execution_count": 149,
   "metadata": {},
   "outputs": [
    {
     "data": {
      "image/png": "[encoded data removed]",
      "text/plain": [
       "<matplotlib.figure.Figure at 0x11532c128>"
      ]
     },
     "metadata": {},
     "output_type": "display_data"
    }
   ],
   "source": [
    "#fig = plt.figure(figsize=(12,6))\n",
    "plt.hist(df.loc[df.total_courses <= 10, 'total_courses'], bins=10, color=\"#093b8c\", width=0.7)\n",
    "plt.xlim(1,10)\n",
    "plt.xlabel(\"Total Courses\")\n",
    "plt.ylabel(\"Number of teachers\")\n",
    "plt.show()"
   ]
  },
  {
   "cell_type": "markdown",
   "metadata": {},
   "source": [
    "The factorplots below give an indication of a positive relationship between the total number of courses and average course rating / students enrolled. The correlation coefficients are equal to 0.16 (p<0.001) and 0.19 respectively (p<0.001). In other words, more experienced teachers generally have a higher average star rating and their courses attract more students."
   ]
  },
  {
   "cell_type": "code",
   "execution_count": 150,
   "metadata": {},
   "outputs": [
    {
     "data": {
      "image/png": "[encoded data removed]",
      "text/plain": [
       "<matplotlib.figure.Figure at 0x11cdf3978>"
      ]
     },
     "metadata": {},
     "output_type": "display_data"
    },
    {
     "data": {
      "image/png": "[encoded data removed]",
      "text/plain": [
       "<matplotlib.figure.Figure at 0x11cdd9198>"
      ]
     },
     "metadata": {},
     "output_type": "display_data"
    }
   ],
   "source": [
    "df.total_courses = df.total_courses.astype(int)\n",
    "sns.factorplot(x='total_courses', y='avg_star_rating', data=df[(df.total_courses < 21) & (df.avg_star_rating > 0)], aspect=2, color='#093b8c')\n",
    "plt.xlabel(\"Total courses\")\n",
    "plt.xlim(-.5,19.5)\n",
    "plt.ylim(3.5,5.3)\n",
    "plt.ylabel(\"Average course rating\")\n",
    "plt.title(\"Total courses by teacher vs Average course rating\", size=14)\n",
    "plt.show()\n",
    "\n",
    "sns.factorplot(x='total_courses', y='students_enrolled', data=df[(df.total_courses < 21) & (df.students_enrolled < 20000)], aspect=2, ci=80, color='#093b8c')\n",
    "plt.xlabel(\"Total courses\")\n",
    "plt.xlim(-.5,19.5)\n",
    "plt.ylim(-350,9000)\n",
    "plt.ylabel(\"# Students enrolled\")\n",
    "plt.title(\"Total courses by teacher vs # Students enrolled\", size=14)\n",
    "plt.show()"
   ]
  },
  {
   "cell_type": "code",
   "execution_count": 151,
   "metadata": {},
   "outputs": [
    {
     "name": "stderr",
     "output_type": "stream",
     "text": [
      "/Users/RoyKlaasseBos/RoyKlaasseBos/anaconda/lib/python3.6/site-packages/statsmodels/nonparametric/kdetools.py:20: VisibleDeprecationWarning: using a non-integer number instead of an integer will result in an error in the future\n",
      "  y = X[:m/2+1] + np.r_[0,X[m/2+1:],0]*1j\n"
     ]
    },
    {
     "data": {
      "image/png": "[encoded data removed]",
      "text/plain": [
       "<matplotlib.figure.Figure at 0x1168155f8>"
      ]
     },
     "metadata": {},
     "output_type": "display_data"
    },
    {
     "data": {
      "image/png": "[encoded data removed]",
      "text/plain": [
       "<matplotlib.figure.Figure at 0x1168ccf60>"
      ]
     },
     "metadata": {},
     "output_type": "display_data"
    }
   ],
   "source": [
    "k1 = sns.jointplot(x=\"total_courses\", y=\"students_enrolled\", data=df[(df.total_courses < 20) & (df.students_enrolled < 20000)], kind='reg', scatter_kws = {\"s\":75, \"color\":\"#093b8c\", \"alpha\":0.5})\n",
    "k1.ax_joint.set_xlim(0,21)\n",
    "k1.ax_joint.set_xlabel(\"Total courses created\")\n",
    "k1.ax_joint.set_ylabel(\"Number of students enrolled\")\n",
    "k1.ax_joint.set_xticks([0, 2, 4, 6, 8, 10, 12, 14, 16, 18, 20])\n",
    "plt.show()\n",
    "\n",
    "k2 = sns.jointplot(x=\"total_courses\", y=\"avg_star_rating\", data=df[df.total_courses < 20], kind='reg', scatter_kws = {\"s\":75, \"color\":\"#228A44\", \"alpha\":0.5}, line_kws = {\"color\":\"#124823\"})\n",
    "k2.ax_joint.set_xlim(0,21)\n",
    "k2.ax_joint.set_ylim(0,5)\n",
    "k2.ax_joint.set_xlabel(\"Total courses created\")\n",
    "k2.ax_joint.set_ylabel(\"Average star rating\")\n",
    "k2.ax_joint.set_xticks([0, 2, 4, 6, 8, 10, 12, 14, 16, 18, 20])\n",
    "k2.plot_marginals(sns.distplot, kde=True, color=\"#238A43\")\n",
    "plt.show()\n",
    "\n"
   ]
  },
  {
   "cell_type": "markdown",
   "metadata": {},
   "source": [
    "### H4: Is there a positive relationship between the number of hours of video and the number of students enrolled in the course (since they get more value for their money)?"
   ]
  },
  {
   "cell_type": "markdown",
   "metadata": {},
   "source": [
    "As becomes clear from the scatter plot below there is a strong positive linear relationship between the hours of video and the number of students enrolled. Aside from that it can be concluded that most courses have less than 10 hours of video content."
   ]
  },
  {
   "cell_type": "code",
   "execution_count": 152,
   "metadata": {},
   "outputs": [
    {
     "name": "stderr",
     "output_type": "stream",
     "text": [
      "/Users/RoyKlaasseBos/RoyKlaasseBos/anaconda/lib/python3.6/site-packages/statsmodels/nonparametric/kdetools.py:20: VisibleDeprecationWarning: using a non-integer number instead of an integer will result in an error in the future\n",
      "  y = X[:m/2+1] + np.r_[0,X[m/2+1:],0]*1j\n"
     ]
    },
    {
     "data": {
      "image/png": "[encoded data removed]",
      "text/plain": [
       "<matplotlib.figure.Figure at 0x115c371d0>"
      ]
     },
     "metadata": {},
     "output_type": "display_data"
    }
   ],
   "source": [
    "sns.jointplot(x='hours_video', y='students_enrolled', data=df, kind='reg', scatter_kws = {\"s\":100, \"color\": \"#093b8c\", \"alpha\": 0.35}, line_kws = {\"color\":\"#093b8c\"})\n",
    "plt.ylim(0, interquartile('students_enrolled')[1])\n",
    "plt.xlabel(\"Hours of video\")\n",
    "plt.ylabel(\"# Students enrolled\")\n",
    "plt.show()"
   ]
  },
  {
   "cell_type": "markdown",
   "metadata": {},
   "source": [
    "Above figure includes both free and paid courses, while there might be remarkable differences between the two. Based on domain knowledge we know that some teachers offer a free course which is a subset of a longer (paid) course (e.g. see these two courses: [free subset](https://www.udemy.com/web-design-secrets/) (146.595 students) and [complete paid course](https://www.udemy.com/design-and-develop-a-killer-website-with-html5-and-css3/) (60.422 students). In this case the free course has attracted more students in spite of the fact that it contains 10.5 hours less video material.<br/>\n",
    "\n",
    "First let's have a look at the ratio between free and paid courses. Although the sample size is rather small, we find that on average 30% of the courses - published by teachers who have published at least one paid course - are free (see the ratios below). Put differently, for every 10 courses by a specific teacher 7 of them are paid on average. In a way it can be hypothesized that teachers offer short free courses to gain trust among students after which they can up-sell them a paid course. "
   ]
  },
  {
   "cell_type": "code",
   "execution_count": 153,
   "metadata": {},
   "outputs": [
    {
     "name": "stdout",
     "output_type": "stream",
     "text": [
      "Ratio paid/free courses for teachers who have published >=1 free course:\n"
     ]
    },
    {
     "data": {
      "text/html": [
       "<div>\n",
       "<table border=\"1\" class=\"dataframe\">\n",
       "  <thead>\n",
       "    <tr style=\"text-align: right;\">\n",
       "      <th></th>\n",
       "      <th>paid_course</th>\n",
       "    </tr>\n",
       "    <tr>\n",
       "      <th>teacher</th>\n",
       "      <th></th>\n",
       "    </tr>\n",
       "  </thead>\n",
       "  <tbody>\n",
       "    <tr>\n",
       "      <th>Adastra Academy</th>\n",
       "      <td>0.500000</td>\n",
       "    </tr>\n",
       "    <tr>\n",
       "      <th>Bogdan Anastasiei</th>\n",
       "      <td>0.833333</td>\n",
       "    </tr>\n",
       "    <tr>\n",
       "      <th>Charles Redmond</th>\n",
       "      <td>0.000000</td>\n",
       "    </tr>\n",
       "    <tr>\n",
       "      <th>Geoffrey Hubona, Ph.D.</th>\n",
       "      <td>0.947368</td>\n",
       "    </tr>\n",
       "    <tr>\n",
       "      <th>Lazy Programmer Inc.</th>\n",
       "      <td>0.941176</td>\n",
       "    </tr>\n",
       "    <tr>\n",
       "      <th>László Csanaki Bognár</th>\n",
       "      <td>0.500000</td>\n",
       "    </tr>\n",
       "    <tr>\n",
       "      <th>Paul Scotchford</th>\n",
       "      <td>0.750000</td>\n",
       "    </tr>\n",
       "    <tr>\n",
       "      <th>R-Tutorials Training</th>\n",
       "      <td>0.928571</td>\n",
       "    </tr>\n",
       "    <tr>\n",
       "      <th>V2 Maestros, LLC</th>\n",
       "      <td>0.909091</td>\n",
       "    </tr>\n",
       "  </tbody>\n",
       "</table>\n",
       "</div>"
      ],
      "text/plain": [
       "                        paid_course\n",
       "teacher                            \n",
       "Adastra Academy            0.500000\n",
       "Bogdan Anastasiei          0.833333\n",
       "Charles Redmond            0.000000\n",
       "Geoffrey Hubona, Ph.D.     0.947368\n",
       "Lazy Programmer Inc.       0.941176\n",
       "László Csanaki Bognár      0.500000\n",
       "Paul Scotchford            0.750000\n",
       "R-Tutorials Training       0.928571\n",
       "V2 Maestros, LLC           0.909091"
      ]
     },
     "execution_count": 153,
     "metadata": {},
     "output_type": "execute_result"
    }
   ],
   "source": [
    "teachers_free_course = df.loc[~ df.paid_course, 'teacher']\n",
    "free_course = df.loc[(df.teacher.duplicated(keep=False)) & df.teacher.isin(teachers_free_course), ['teacher','paid_course']].sort_values(['teacher'])\n",
    "\n",
    "print(\"Ratio paid/free courses for teachers who have published >=1 free course:\")\n",
    "ratio_paid_free = free_course[free_course.paid_course].groupby('teacher').count() / free_course.groupby('teacher').count()\n",
    "ratio_paid_free.loc['Charles Redmond'] = 0\n",
    "ratio_paid_free"
   ]
  },
  {
   "cell_type": "code",
   "execution_count": 154,
   "metadata": {},
   "outputs": [
    {
     "name": "stdout",
     "output_type": "stream",
     "text": [
      "Average paid/free ratio:  29.9 %\n"
     ]
    }
   ],
   "source": [
    "# average paid/free ratio for teachers who have published >= 1 free course. \n",
    "print(\"Average paid/free ratio: \", round((1 - ratio_paid_free['paid_course'].mean())*100, 1), \"%\")"
   ]
  },
  {
   "cell_type": "markdown",
   "metadata": {},
   "source": [
    "The kernel density plots for free and paid courses are in line with this hypothesis: most free courses contain relatively few hours of video (<2-3 hours) and the number of students enrolled is remarkably higher than for paid courses. All things considered, the effect of the price may count more heavily than just the number of hours of video material."
   ]
  },
  {
   "cell_type": "code",
   "execution_count": 155,
   "metadata": {},
   "outputs": [
    {
     "data": {
      "image/png": "[encoded data removed]",
      "text/plain": [
       "<matplotlib.figure.Figure at 0x11b1cef98>"
      ]
     },
     "metadata": {},
     "output_type": "display_data"
    }
   ],
   "source": [
    "f, axes = plt.subplots(1,2, figsize=(12,6), sharey=True, sharex=True) \n",
    "\n",
    "k1a = sns.kdeplot(df.loc[df.paid_course, 'hours_video'], df.loc[df.paid_course, 'students_enrolled'], shade=True, shade_lowest=False, cmap=\"BuGn\", ax=axes[1])\n",
    "k1b = sns.kdeplot(df.loc[df.paid_course, 'hours_video'], df.loc[df.paid_course, 'students_enrolled'], cmap=\"BuGn\", ax=axes[1]).set_ylim(0,20000)\n",
    "k1a.set_xlabel(\"Hours of video\")\n",
    "k1a.set_ylabel(\"\")\n",
    "k1a.set_xlim(0,8.5)\n",
    "k1a.set_title(\"Paid courses\", size=14)\n",
    "\n",
    "k2a = sns.kdeplot(df.loc[df.paid_course == False, 'hours_video'], df.loc[df.paid_course == False, 'students_enrolled'], shade=True, shade_lowest=False, cmap=\"PuBu\", ax=axes[0])\n",
    "k2b = sns.kdeplot(df.loc[df.paid_course == False, 'hours_video'], df.loc[df.paid_course == False, 'students_enrolled'], cmap=\"PuBu\", ax=axes[0])\n",
    "k2a.set_ylabel(\"# Students Enrolled\")\n",
    "k2a.set_xlabel(\"Hours of video\")\n",
    "k2a.set_title(\"Free courses\", size=14)\n",
    "\n",
    "plt.show()"
   ]
  },
  {
   "cell_type": "markdown",
   "metadata": {},
   "source": [
    "### H5 Is there any relationship between the absolute discount and the number of students enrolled?"
   ]
  },
  {
   "cell_type": "markdown",
   "metadata": {},
   "source": [
    "The reason this question has been formulated like this, is because Udemy's pricing policy involves cutting prices to a minimum of €10 for almost every paid course; regardless of the original course price. This explains why more than 95% of all paid courses in this data set have been priced at €10. In that sense, it is more interesting to investigate the variation in the `original_course_price`.\n",
    "\n",
    "As becomes clear from the query below, teachers can set their original course price (i.e. without discount) between 0 and 200 euro with increments of 5 euro. The following (original) price levels are most popular: €20, €50, €95, €100, €200."
   ]
  },
  {
   "cell_type": "code",
   "execution_count": 156,
   "metadata": {},
   "outputs": [
    {
     "data": {
      "text/plain": [
       "[0, 20, 25, 30, 35, ..., 180, 185, 190, 195, 200]\n",
       "Length: 36\n",
       "Categories (36, int64): [0, 20, 25, 30, ..., 185, 190, 195, 200]"
      ]
     },
     "execution_count": 156,
     "metadata": {},
     "output_type": "execute_result"
    }
   ],
   "source": [
    "df.original_price = df.original_price.astype('category')\n",
    "df.original_price.sort_values().unique()"
   ]
  },
  {
   "cell_type": "code",
   "execution_count": 157,
   "metadata": {},
   "outputs": [
    {
     "data": {
      "image/png": "[encoded data removed]",
      "text/plain": [
       "<matplotlib.figure.Figure at 0x1158f01d0>"
      ]
     },
     "metadata": {},
     "output_type": "display_data"
    }
   ],
   "source": [
    "fig = plt.figure(figsize=(12,6))\n",
    "sns.countplot(df['original_price'], palette='GnBu')\n",
    "plt.xlabel(\"Original price (€)\")\n",
    "plt.ylabel(\"Frequency\")\n",
    "plt.title(\"Distribution of original course prices\", size=14)\n",
    "plt.show()"
   ]
  },
  {
   "cell_type": "markdown",
   "metadata": {},
   "source": [
    "Although the current price may be identical for most courses, this doesn't mean the original course price is meaningless. Perhaps learners prefer an originally very expensive course which is now on sale for 10-euro over another 10-euro course of which the original course price is much lower (i.e. the absolute discount is lower).\n",
    "\n",
    "If we look at the mean and median number of students enrolled for the most common prices levels, we find support for this hypothesis: the higher the original course price - and thus the higher the discount - the more students are enrolled on average. For that reason, we define a new variable called `discount`: the difference between the original and current course price."
   ]
  },
  {
   "cell_type": "code",
   "execution_count": 158,
   "metadata": {},
   "outputs": [
    {
     "data": {
      "text/html": [
       "<div>\n",
       "<table border=\"1\" class=\"dataframe\">\n",
       "  <thead>\n",
       "    <tr style=\"text-align: right;\">\n",
       "      <th></th>\n",
       "      <th>count</th>\n",
       "      <th>min</th>\n",
       "      <th>max</th>\n",
       "      <th>mean</th>\n",
       "      <th>median</th>\n",
       "    </tr>\n",
       "    <tr>\n",
       "      <th>original_price</th>\n",
       "      <th></th>\n",
       "      <th></th>\n",
       "      <th></th>\n",
       "      <th></th>\n",
       "      <th></th>\n",
       "    </tr>\n",
       "  </thead>\n",
       "  <tbody>\n",
       "    <tr>\n",
       "      <th>20</th>\n",
       "      <td>73</td>\n",
       "      <td>0</td>\n",
       "      <td>17450</td>\n",
       "      <td>1152.602740</td>\n",
       "      <td>388.0</td>\n",
       "    </tr>\n",
       "    <tr>\n",
       "      <th>50</th>\n",
       "      <td>64</td>\n",
       "      <td>0</td>\n",
       "      <td>9311</td>\n",
       "      <td>1197.812500</td>\n",
       "      <td>329.5</td>\n",
       "    </tr>\n",
       "    <tr>\n",
       "      <th>95</th>\n",
       "      <td>30</td>\n",
       "      <td>47</td>\n",
       "      <td>3525</td>\n",
       "      <td>1181.300000</td>\n",
       "      <td>1062.0</td>\n",
       "    </tr>\n",
       "    <tr>\n",
       "      <th>100</th>\n",
       "      <td>33</td>\n",
       "      <td>10</td>\n",
       "      <td>14634</td>\n",
       "      <td>2077.575758</td>\n",
       "      <td>1165.0</td>\n",
       "    </tr>\n",
       "    <tr>\n",
       "      <th>200</th>\n",
       "      <td>63</td>\n",
       "      <td>0</td>\n",
       "      <td>140016</td>\n",
       "      <td>8626.428571</td>\n",
       "      <td>1765.0</td>\n",
       "    </tr>\n",
       "  </tbody>\n",
       "</table>\n",
       "</div>"
      ],
      "text/plain": [
       "                count  min     max         mean  median\n",
       "original_price                                         \n",
       "20                 73    0   17450  1152.602740   388.0\n",
       "50                 64    0    9311  1197.812500   329.5\n",
       "95                 30   47    3525  1181.300000  1062.0\n",
       "100                33   10   14634  2077.575758  1165.0\n",
       "200                63    0  140016  8626.428571  1765.0"
      ]
     },
     "execution_count": 158,
     "metadata": {},
     "output_type": "execute_result"
    }
   ],
   "source": [
    "students_enrolled_original_price = df.groupby('original_price').students_enrolled.agg(['count', 'min', 'max', 'mean', 'median'])\n",
    "students_enrolled_original_price.loc[[20, 50, 95, 100, 200]]"
   ]
  },
  {
   "cell_type": "code",
   "execution_count": 159,
   "metadata": {
    "collapsed": true
   },
   "outputs": [],
   "source": [
    "current_price_original_price = df.groupby('original_price').current_price.agg(['count', 'min', 'max', 'mean', 'median'])\n",
    "current_price_original_price.loc[[20, 50, 95, 100, 200]]\n",
    "\n",
    "df['discount'] = df['original_price'] - df['current_price']\n",
    "df.loc[df.discount < 0, 'discount'] = 0"
   ]
  },
  {
   "cell_type": "markdown",
   "metadata": {},
   "source": [
    "In accordance with the table above, we find a significant positive relationship between the discount in euros and the number of students enrolled (correlation coefficient=0.21, p < 0.0001)."
   ]
  },
  {
   "cell_type": "code",
   "execution_count": 160,
   "metadata": {},
   "outputs": [
    {
     "name": "stderr",
     "output_type": "stream",
     "text": [
      "/Users/RoyKlaasseBos/RoyKlaasseBos/anaconda/lib/python3.6/site-packages/statsmodels/nonparametric/kdetools.py:20: VisibleDeprecationWarning: using a non-integer number instead of an integer will result in an error in the future\n",
      "  y = X[:m/2+1] + np.r_[0,X[m/2+1:],0]*1j\n"
     ]
    },
    {
     "data": {
      "text/plain": [
       "<matplotlib.text.Text at 0x11abc3cc0>"
      ]
     },
     "execution_count": 160,
     "metadata": {},
     "output_type": "execute_result"
    },
    {
     "data": {
      "text/plain": [
       "<matplotlib.figure.Figure at 0x11a5582b0>"
      ]
     },
     "metadata": {},
     "output_type": "display_data"
    },
    {
     "data": {
      "image/png": "[encoded data removed]",
      "text/plain": [
       "<matplotlib.figure.Figure at 0x11aa67a90>"
      ]
     },
     "metadata": {},
     "output_type": "display_data"
    }
   ],
   "source": [
    "fig = plt.figure(figsize=(12,8))\n",
    "k1 = sns.jointplot(x=\"discount\", y=\"students_enrolled\", data=df[df.students_enrolled < 20000], color='#093b8c', kind=\"reg\", scatter_kws = {\"s\":75, \"color\": \"#093b8c\", \"alpha\": 0.35})\n",
    "k1.ax_joint.set_xlim(-5,195) \n",
    "k1.ax_joint.set_xticks([0, 25, 50, 75, 100, 125, 150, 175, 200]) \n",
    "k1.ax_joint.set_ylabel(\"# Students Enrolled\")\n",
    "k1.ax_joint.set_xlabel(\"Discount (€)\")"
   ]
  },
  {
   "cell_type": "markdown",
   "metadata": {},
   "source": [
    "### H6 Do English spoken courses attract significantly more students compared to non-English spoken ones?"
   ]
  },
  {
   "cell_type": "markdown",
   "metadata": {},
   "source": [
    "This hypothesis has been formulated this way because the potential market size of English spoken courses is larger. 89.0% of all the Data & Analytics courses is taught in English, followed by Spanish (2.7%), Japanese (2.3%), Portuguese (2.1%),  German (1.4%) and French (1.0%). Although the maximum number of students enrolled is remarkably higher for English courses we only find a significant difference in terms of students enrolled between English and Spanish courses (see t-values)."
   ]
  },
  {
   "cell_type": "code",
   "execution_count": 161,
   "metadata": {},
   "outputs": [
    {
     "data": {
      "image/png": "[encoded data removed]",
      "text/plain": [
       "<matplotlib.figure.Figure at 0x115467c50>"
      ]
     },
     "metadata": {},
     "output_type": "display_data"
    }
   ],
   "source": [
    "fig = plt.figure(figsize=(12,6))\n",
    "sns.boxplot(x='language', y='students_enrolled', data=df[df.language.isin(['English', 'Japanese', 'Spanish', 'Portuguese', 'French', 'German'])], fliersize=0, palette='GnBu')\n",
    "plt.ylim(0,8000)\n",
    "plt.xlabel(\"\")\n",
    "plt.ylabel(\"# Students enrolled\")\n",
    "plt.title(\"Course language vs Students enrolled\", size=14)\n",
    "plt.show()"
   ]
  },
  {
   "cell_type": "code",
   "execution_count": 162,
   "metadata": {
    "collapsed": true
   },
   "outputs": [],
   "source": [
    "def t_test_course_level(level1, level2, groupby_var):\n",
    "    filter = df.students_enrolled < 20000\n",
    "\n",
    "    df_level1 = df[filter].groupby(groupby_var).count()['students_enrolled'][[level1]] - 1\n",
    "    df_level2 = df[filter].groupby(groupby_var).count()['students_enrolled'][[level2]] - 1\n",
    "\n",
    "    std_level1 = df[filter].groupby(groupby_var).std()['students_enrolled'][[level1]]\n",
    "    std_level2 = df[filter].groupby(groupby_var).std()['students_enrolled'][[level2]]\n",
    "\n",
    "    mean_level1 = df[filter].groupby(groupby_var).mean()['students_enrolled'][[level1]]\n",
    "    mean_level2 = df[filter].groupby(groupby_var).mean()['students_enrolled'][[level2]]\n",
    "\n",
    "    ss_level1 = std_level1[0] ** 2 * df_level1[0]\n",
    "    ss_level2 = std_level2[0] ** 2 * df_level2[0]\n",
    "\n",
    "    S2 = (ss_level1 + ss_level2) / (df_level1[0] + df_level2[0])\n",
    "\n",
    "    t = (mean_level1[0] - mean_level2[0]) / (S2/(df_level1[0] + 1) + S2/(df_level2[0] + 1))**(1/2)\n",
    "    if(-1.960 < t > 1.960):\n",
    "        return f\"There is a significant difference in the number of students enrolled between {level1} and {level2} courses (t: {round(t,3)})\"\n",
    "    else:\n",
    "        return f\"There is NOT any significant difference in the number of students enrolled between {level1} and {level2} courses (t: {round(t,3)})\""
   ]
  },
  {
   "cell_type": "code",
   "execution_count": 163,
   "metadata": {},
   "outputs": [
    {
     "name": "stdout",
     "output_type": "stream",
     "text": [
      "There is a significant difference in the number of students enrolled between English and Spanish courses (t: 2.112)\n",
      "There is NOT any significant difference in the number of students enrolled between English and Portuguese courses (t: 0.798)\n",
      "There is NOT any significant difference in the number of students enrolled between English and French courses (t: 0.667)\n",
      "There is NOT any significant difference in the number of students enrolled between English and Japanese courses (t: 1.426)\n",
      "There is NOT any significant difference in the number of students enrolled between English and German courses (t: 0.665)\n"
     ]
    }
   ],
   "source": [
    "for language in ['Spanish', 'Portuguese', 'French', 'Japanese', 'German']:\n",
    "    print(t_test_course_level('English', language, 'language'))"
   ]
  },
  {
   "cell_type": "markdown",
   "metadata": {},
   "source": [
    "On the other hand, the following factorplot shows that the number of students enrolled for courses with custom English *captions* is remarkably higher. As a matter of fact, a 2 sample t-test shows that the mean of courses with custom english captions is significantly higher (p = 0.0051). "
   ]
  },
  {
   "cell_type": "code",
   "execution_count": 164,
   "metadata": {},
   "outputs": [
    {
     "data": {
      "image/png": "[encoded data removed]",
      "text/plain": [
       "<matplotlib.figure.Figure at 0x116646eb8>"
      ]
     },
     "metadata": {},
     "output_type": "display_data"
    }
   ],
   "source": [
    "df.english_captions.astype('category')\n",
    "sns.factorplot(x='english_captions', y='students_enrolled', data=df, color=\"#093b8c\", size=5)\n",
    "plt.title('English captions vs Students enrolled', size=13)\n",
    "plt.ylabel('# Students enrolled')\n",
    "plt.xticks(range(2), ('No', 'Yes'), size=12)\n",
    "plt.xlabel('')\n",
    "plt.show()"
   ]
  },
  {
   "cell_type": "markdown",
   "metadata": {},
   "source": [
    "### H8 Do courses which are being taught by a top-responder instructor have a higher student count?"
   ]
  },
  {
   "cell_type": "markdown",
   "metadata": {},
   "source": [
    "Although only about 5% of the courses is taught by a top-responder, the position of the green and blue box-plot in the figure below is clearly different. This confirms the eighth hypothesis that the student count is much higher for courses taught by a top-responder instructor."
   ]
  },
  {
   "cell_type": "code",
   "execution_count": 165,
   "metadata": {},
   "outputs": [
    {
     "data": {
      "text/plain": [
       "False    458\n",
       "True      25\n",
       "Name: top_responder, dtype: int64"
      ]
     },
     "execution_count": 165,
     "metadata": {},
     "output_type": "execute_result"
    }
   ],
   "source": [
    "df.top_responder.value_counts()"
   ]
  },
  {
   "cell_type": "code",
   "execution_count": 166,
   "metadata": {},
   "outputs": [
    {
     "data": {
      "image/png": "[encoded data removed]",
      "text/plain": [
       "<matplotlib.figure.Figure at 0x1156a2048>"
      ]
     },
     "metadata": {},
     "output_type": "display_data"
    }
   ],
   "source": [
    "sns.boxplot(x='top_responder', y='students_enrolled', data=df, fliersize=0)\n",
    "plt.title('Top responder vs Students enrolled', size=13)\n",
    "plt.ylabel('# Students enrolled')\n",
    "plt.xticks(range(2), ('No', 'Yes'))\n",
    "plt.xlabel('')\n",
    "plt.ylim(0,30000)\n",
    "plt.show()"
   ]
  },
  {
   "cell_type": "markdown",
   "metadata": {},
   "source": [
    "### H9 Do courses with a relatively high star-rating attract significantly more students?"
   ]
  },
  {
   "cell_type": "markdown",
   "metadata": {},
   "source": [
    "Given the results of hypotheses 1 and 4, the course rating distribution between free and paid courses is compared first. Then, we look into a possible relationship between the star-rating and the student count. \n",
    "\n",
    "The violinplots below show that some paid courses get an average star rating below 4.0, whereas that is not the case for any of the free courses. In that sense it could be hypothesized that students are indeed more lenient towards free courses. On the other hand, the majority of all paid courses have an average rating of 4.2 stars. Further, it should be emphasised that less than 5% of all courses are actually free which makes the sample-size relatively small and thus we should be careful with drawing any hard conclusions."
   ]
  },
  {
   "cell_type": "code",
   "execution_count": 167,
   "metadata": {},
   "outputs": [
    {
     "data": {
      "image/png": "[encoded data removed]",
      "text/plain": [
       "<matplotlib.figure.Figure at 0x1158d16d8>"
      ]
     },
     "metadata": {},
     "output_type": "display_data"
    }
   ],
   "source": [
    "f, axes = plt.subplots(1,2, figsize=(12,6), sharey=True, sharex=True) \n",
    "\n",
    "filter_paid = (df.paid_course) & (df.num_ratings > 0)\n",
    "filter_free = ~(df.paid_course) & (df.num_ratings > 0)\n",
    "\n",
    "k1a = sns.violinplot(df.loc[filter_free, 'rating_complete'], color=\"#093b8c\", ax=axes[0], orient='vertical')\n",
    "k1a.set_title(\"Free courses\", size=14)\n",
    "k1a.set_ylabel(\"Star rating\", size=13)\n",
    "k1a.set_ylim(-0.5,5.5)\n",
    "\n",
    "k2a = sns.violinplot(df.loc[filter_paid, 'rating_complete'], color=\"#028259\", ax=axes[1], orient='vertical')\n",
    "k2a.set_title(\"Paid courses\", size=14)\n",
    "k2a.set_ylabel(\"\")\n",
    "\n",
    "plt.show()"
   ]
  },
  {
   "cell_type": "markdown",
   "metadata": {},
   "source": [
    "Although a causal relationship cannot be proven, the jointplot below confirms the hypothesis that popular courses have a high star rating (between 4 and 5 stars). The reverse also applies: there aren't a lot of students enrolled  for courses with an average star rating below 4.0 (8113 at most). In fact, the simple linear regression coefficient indicates a significant positive correlation between the star-rating and the number of students enrolled (correlation coefficient: 0.16, p<0.001)."
   ]
  },
  {
   "cell_type": "code",
   "execution_count": 168,
   "metadata": {},
   "outputs": [
    {
     "name": "stderr",
     "output_type": "stream",
     "text": [
      "/Users/RoyKlaasseBos/RoyKlaasseBos/anaconda/lib/python3.6/site-packages/statsmodels/nonparametric/kdetools.py:20: VisibleDeprecationWarning: using a non-integer number instead of an integer will result in an error in the future\n",
      "  y = X[:m/2+1] + np.r_[0,X[m/2+1:],0]*1j\n"
     ]
    },
    {
     "data": {
      "image/png": "[encoded data removed]",
      "text/plain": [
       "<matplotlib.figure.Figure at 0x115eb6c18>"
      ]
     },
     "metadata": {},
     "output_type": "display_data"
    }
   ],
   "source": [
    "k1 = sns.jointplot(x=\"rating_complete\", y=\"students_enrolled\", data=df[df.num_ratings > 0], kind=\"reg\", scatter_kws = {\"s\":100, \"color\": \"#093b8c\", \"alpha\": 0.15}, line_kws = {\"color\": \"#122C57\", \"lw\": 3})\n",
    "k1.ax_joint.set_xlabel(\"Star rating\")\n",
    "k1.ax_joint.set_ylabel(\"# Students enrolled\")\n",
    "k1.ax_joint.set_xlim(0,5.2)\n",
    "k1.ax_joint.set_ylim(0,20000)\n",
    "plt.show()"
   ]
  },
  {
   "cell_type": "markdown",
   "metadata": {},
   "source": [
    "Connecting the findings of these two plots leads to the conclusion that free courses not only have a higher star rating than paid courses but also have a larger student population. Especially the distinction between free and paid courses stands out: the median number of students enrolled is almost twice as high for free courses (5379 vs 2863 students)."
   ]
  },
  {
   "cell_type": "code",
   "execution_count": 169,
   "metadata": {
    "scrolled": true
   },
   "outputs": [
    {
     "data": {
      "image/png": "[encoded data removed]",
      "text/plain": [
       "<matplotlib.figure.Figure at 0x11a57cef0>"
      ]
     },
     "metadata": {},
     "output_type": "display_data"
    }
   ],
   "source": [
    "f, axes = plt.subplots(1,2, figsize=(10,5), sharey=True, sharex=True) \n",
    "\n",
    "filter_paid = (df.paid_course) & (df.num_ratings > 0)\n",
    "filter_free = ~(df.paid_course) & (df.num_ratings > 0)\n",
    "\n",
    "k1a = sns.kdeplot(df.loc[filter_paid, 'rating_complete'], df.loc[filter_paid, 'students_enrolled'], shade=True, shade_lowest=False, cmap=\"BuGn\", ax=axes[1])\n",
    "k1b = sns.kdeplot(df.loc[filter_paid, 'rating_complete'], df.loc[filter_paid, 'students_enrolled'], cmap=\"BuGn\", ax=axes[1]).set_ylim(0,20000)\n",
    "k1a.set_xlabel(\"Star Rating\")\n",
    "k1a.set_title(\"Paid courses\", size=14)\n",
    "k1a.set_ylabel(\"\")\n",
    "\n",
    "k2a = sns.kdeplot(df.loc[filter_free, 'rating_complete'], df.loc[filter_free, 'students_enrolled'], shade=True, shade_lowest=False, cmap=\"Blues\", ax=axes[0])\n",
    "k2b = sns.kdeplot(df.loc[filter_free, 'rating_complete'], df.loc[filter_free, 'students_enrolled'], cmap=\"Blues\", ax=axes[0])\n",
    "k2a.set_ylabel(\"# Students enrolled\")\n",
    "k2a.set_xlabel(\"Star Rating\")\n",
    "k2a.set_title(\"Free courses\", size=14)\n",
    "\n",
    "plt.show()"
   ]
  },
  {
   "cell_type": "markdown",
   "metadata": {},
   "source": [
    "### H10 Are negative course reviews any different in terms of length? "
   ]
  },
  {
   "cell_type": "markdown",
   "metadata": {},
   "source": [
    "Reviewers can *optionally* leave a description to argue how they came up with the star-rating. About 1 in 5 students who reviewed this course wrote such a text. It turns out that students who left a relatively low rating are actually far more likely to add a text: about half of the students who gave a 0.5 or 1.0 rating did so. Apparently, students who are disappointed in the course quality are more inclined to express their dissatisfaction in words. "
   ]
  },
  {
   "cell_type": "code",
   "execution_count": 170,
   "metadata": {
    "collapsed": true
   },
   "outputs": [],
   "source": [
    "# calculate length of reviews\n",
    "for counter in range(len(reviews)):\n",
    "    reviews.loc[counter, 'review_len'] = len(reviews.loc[counter, 'content'])"
   ]
  },
  {
   "cell_type": "code",
   "execution_count": 171,
   "metadata": {
    "collapsed": true
   },
   "outputs": [],
   "source": [
    "# difference in rating between people who write a review and those who do not\n",
    "reviews.loc[reviews.review_len == 0, 'empty'] = True\n",
    "reviews.loc[reviews.review_len != 0, 'empty'] = False"
   ]
  },
  {
   "cell_type": "code",
   "execution_count": 172,
   "metadata": {},
   "outputs": [
    {
     "data": {
      "text/plain": [
       "19.181792456643894"
      ]
     },
     "execution_count": 172,
     "metadata": {},
     "output_type": "execute_result"
    }
   ],
   "source": [
    "# percentage of reviews that includes a description (in addition to the number of stars)\n",
    "reviews.groupby('empty').rating.count()[0] / reviews.groupby('empty').rating.count().sum() * 100"
   ]
  },
  {
   "cell_type": "code",
   "execution_count": 173,
   "metadata": {},
   "outputs": [
    {
     "data": {
      "image/png": "[encoded data removed]",
      "text/plain": [
       "<matplotlib.figure.Figure at 0x11b339208>"
      ]
     },
     "metadata": {},
     "output_type": "display_data"
    }
   ],
   "source": [
    "# negative reviews contain a description more often\n",
    "reviews['empty_num'] = reviews['empty'].astype(int)\n",
    "reviews.groupby('rating').empty_num.mean().plot(kind='bar', color='#093b8c')\n",
    "plt.title(\"Percentage reviews without text\", size=14)\n",
    "plt.show()"
   ]
  },
  {
   "cell_type": "markdown",
   "metadata": {},
   "source": [
    "If we look at the reviews with a description (20%), we find that most reviews are rather short: 40 characters or less (e.g. \"Great course! Thanks!\"). What's actually more interesting, is that critical reviews are generally longer (see factorplot). "
   ]
  },
  {
   "cell_type": "code",
   "execution_count": 174,
   "metadata": {},
   "outputs": [
    {
     "data": {
      "image/png": "[encoded data removed]",
      "text/plain": [
       "<matplotlib.figure.Figure at 0x11646b5f8>"
      ]
     },
     "metadata": {},
     "output_type": "display_data"
    }
   ],
   "source": [
    "# distribution of review description length (only for reviews which have a text)\n",
    "reviews.loc[(reviews.review_len > 0), 'review_len'].plot(kind='kde', color='#093b8c')\n",
    "plt.xlim(-15,300)\n",
    "plt.ylim(-0.0005,0.008)\n",
    "plt.xlabel(\"# Characters in review\")\n",
    "plt.title(\"Review length distribution\", size=14)\n",
    "plt.show()"
   ]
  },
  {
   "cell_type": "code",
   "execution_count": 175,
   "metadata": {},
   "outputs": [
    {
     "data": {
      "image/png": "[encoded data removed]",
      "text/plain": [
       "<matplotlib.figure.Figure at 0x116aafeb8>"
      ]
     },
     "metadata": {},
     "output_type": "display_data"
    }
   ],
   "source": [
    "# factorplot (i.e. mean review length including 95% confidence interval) for star-rating vs review length\n",
    "sns.factorplot('rating', 'review_len', data=reviews[reviews.review_len > 0], aspect=1.5, color='#093b8c')\n",
    "plt.title(\"Average review length vs Star rating\")\n",
    "plt.xlabel(\"Star rating\")\n",
    "plt.ylabel(\"# Characters in review\")\n",
    "plt.show()"
   ]
  },
  {
   "cell_type": "markdown",
   "metadata": {},
   "source": [
    "### Hypotheses Testing"
   ]
  },
  {
   "cell_type": "markdown",
   "metadata": {},
   "source": [
    "As previously announced, the significance of independent factors will be tested in a multiple linear regression model. For a significance level of 0.05, the statistical output below supports all hypotheses except for H9 (average course rating - p-value: 0.094). The reason it has still been included in the model is because the Adjusted R-squared is slightly higher for that model (0.330 vs 0.327) which implies that the added value of `rating_complete` is higher than the \"penalty\" for including another variable. \n",
    "\n",
    "<b>Number of Students Enrolled</b><br/>\n",
    "Factors that have relatively much effect on the student count are: `top_responder` (+2032 students), `paid_course` (-4224 students) and `english_captions` (+3492 students). Along these lines free courses with English captions taught by top-responder instructors are most likely to have many enrolments."
   ]
  },
  {
   "cell_type": "code",
   "execution_count": 176,
   "metadata": {
    "collapsed": true
   },
   "outputs": [],
   "source": [
    "mlr = df[['best_seller', 'current_price', 'hours_video', 'language', 'num_articles', 'num_lectures', 'num_ratings', 'original_price', 'students_enrolled', 'supplemental_resources', 'course_level', 'top_responder', 'avg_star_rating', 'total_reviews', 'total_students', 'total_courses', 'english_captions', 'paid_course', 'rating_complete', 'avg_prior_rating', 'time_since_last_update', 'num_instructors', 'discount']]"
   ]
  },
  {
   "cell_type": "code",
   "execution_count": 177,
   "metadata": {
    "collapsed": true
   },
   "outputs": [],
   "source": [
    "df['original_price'] = df['original_price'].astype(int)\n",
    "df['paid_course'] = df['paid_course'].astype(int) \n",
    "df['english_captions'] = df['english_captions'].astype(int) \n",
    "df['best_seller'] = df['best_seller'].astype(int) \n",
    "df['top_responder'] = df['top_responder'].astype(int) "
   ]
  },
  {
   "cell_type": "code",
   "execution_count": 178,
   "metadata": {},
   "outputs": [
    {
     "name": "stdout",
     "output_type": "stream",
     "text": [
      "                            OLS Regression Results                            \n",
      "==============================================================================\n",
      "Dep. Variable:      students_enrolled   R-squared:                       0.343\n",
      "Model:                            OLS   Adj. R-squared:                  0.330\n",
      "Method:                 Least Squares   F-statistic:                     26.74\n",
      "Date:                Tue, 05 Dec 2017   Prob (F-statistic):           1.90e-29\n",
      "Time:                        23:46:27   Log-Likelihood:                -3368.5\n",
      "No. Observations:                 366   AIC:                             6753.\n",
      "Df Residuals:                     358   BIC:                             6784.\n",
      "Df Model:                           7                                         \n",
      "Covariance Type:            nonrobust                                         \n",
      "====================================================================================\n",
      "                       coef    std err          t      P>|t|      [95.0% Conf. Int.]\n",
      "------------------------------------------------------------------------------------\n",
      "const             3120.6552    819.436      3.808      0.000      1509.143  4732.167\n",
      "discount             6.4212      2.298      2.794      0.005         1.902    10.940\n",
      "total_courses      113.6419     23.048      4.931      0.000        68.316   158.968\n",
      "hours_video        100.7858     37.312      2.701      0.007        27.407   174.165\n",
      "top_responder     2031.9705    669.426      3.035      0.003       715.468  3348.473\n",
      "paid_course      -4223.8923    651.823     -6.480      0.000     -5505.776 -2942.009\n",
      "english_captions  3491.8662    565.719      6.172      0.000      2379.316  4604.417\n",
      "rating_complete    206.8244    123.329      1.677      0.094       -35.716   449.365\n",
      "==============================================================================\n",
      "Omnibus:                      213.573   Durbin-Watson:                   1.562\n",
      "Prob(Omnibus):                  0.000   Jarque-Bera (JB):             1899.897\n",
      "Skew:                           2.336   Prob(JB):                         0.00\n",
      "Kurtosis:                      13.137   Cond. No.                         732.\n",
      "==============================================================================\n",
      "\n",
      "Warnings:\n",
      "[1] Standard Errors assume that the covariance matrix of the errors is correctly specified.\n"
     ]
    }
   ],
   "source": [
    "import statsmodels.api as sm\n",
    "from scipy import stats\n",
    "\n",
    "X = mlr.loc[(mlr.total_courses < 20) & (mlr.students_enrolled < 20000), ['discount', 'total_courses', 'hours_video', 'top_responder', 'paid_course', 'english_captions', 'rating_complete']]\n",
    "y = mlr.loc[(mlr.total_courses < 20) & (mlr.students_enrolled < 20000), 'students_enrolled']\n",
    "\n",
    "X2 = sm.add_constant(X)\n",
    "est = sm.OLS(y, X2.astype(float))\n",
    "est2 = est.fit()\n",
    "print(est2.summary())"
   ]
  },
  {
   "cell_type": "markdown",
   "metadata": {},
   "source": [
    "<b>Average Star Review</b><br/>\n",
    "If we repeat the same procedure for the average star review, we find that according to the model's coefficients the mean star rating for free courses is 0.23 higher compared to paid courses. Although the independent variable `total_courses` is significant it only makes any meaningful difference for teachers who have published at least 8 courses (47.8%), because the rating is rounded to 1 decimal. Further note that the constant is 4.35 which is remarkably high. In fact, the confidence interval shows that 95% of all courses falls has a rating between 4.17 and 4.52."
   ]
  },
  {
   "cell_type": "code",
   "execution_count": 179,
   "metadata": {},
   "outputs": [
    {
     "name": "stdout",
     "output_type": "stream",
     "text": [
      "                            OLS Regression Results                            \n",
      "==============================================================================\n",
      "Dep. Variable:        rating_complete   R-squared:                       0.067\n",
      "Model:                            OLS   Adj. R-squared:                  0.058\n",
      "Method:                 Least Squares   F-statistic:                     8.145\n",
      "Date:                Tue, 05 Dec 2017   Prob (F-statistic):           0.000383\n",
      "Time:                        23:46:27   Log-Likelihood:                -93.845\n",
      "No. Observations:                 231   AIC:                             193.7\n",
      "Df Residuals:                     228   BIC:                             204.0\n",
      "Df Model:                           2                                         \n",
      "Covariance Type:            nonrobust                                         \n",
      "=================================================================================\n",
      "                    coef    std err          t      P>|t|      [95.0% Conf. Int.]\n",
      "---------------------------------------------------------------------------------\n",
      "const             4.3492      0.090     48.350      0.000         4.172     4.526\n",
      "total_courses     0.0127      0.004      3.263      0.001         0.005     0.020\n",
      "paid_course      -0.2345      0.090     -2.606      0.010        -0.412    -0.057\n",
      "==============================================================================\n",
      "Omnibus:                       42.475   Durbin-Watson:                   1.861\n",
      "Prob(Omnibus):                  0.000   Jarque-Bera (JB):               63.701\n",
      "Skew:                          -1.070   Prob(JB):                     1.47e-14\n",
      "Kurtosis:                       4.429   Cond. No.                         53.0\n",
      "==============================================================================\n",
      "\n",
      "Warnings:\n",
      "[1] Standard Errors assume that the covariance matrix of the errors is correctly specified.\n"
     ]
    }
   ],
   "source": [
    "import statsmodels.api as sm\n",
    "from scipy import stats\n",
    "\n",
    "X = mlr.loc[(mlr.total_courses < 20) & (mlr.num_ratings > 20), ['total_courses', 'paid_course']]\n",
    "y = mlr.loc[(mlr.total_courses < 20) & (mlr.num_ratings > 20), 'rating_complete']\n",
    "\n",
    "X2 = sm.add_constant(X)\n",
    "est = sm.OLS(y, X2.astype(float))\n",
    "est2 = est.fit()\n",
    "print(est2.summary())"
   ]
  },
  {
   "cell_type": "markdown",
   "metadata": {},
   "source": [
    "<b>Course Review</b><br/>\n",
    "The linear regression model's output supports the claim that there is a negative relationship between the course rating and the length of the review (p<0.0001). To illustrate that, a 0.5/5 star review is typically 100 characters longer than a 5.0/5.0 star review ($22.57 \\times (5.0-0.5)$). "
   ]
  },
  {
   "cell_type": "code",
   "execution_count": 180,
   "metadata": {},
   "outputs": [
    {
     "name": "stdout",
     "output_type": "stream",
     "text": [
      "                            OLS Regression Results                            \n",
      "==============================================================================\n",
      "Dep. Variable:             review_len   R-squared:                       0.014\n",
      "Model:                            OLS   Adj. R-squared:                  0.014\n",
      "Method:                 Least Squares   F-statistic:                     67.99\n",
      "Date:                Tue, 05 Dec 2017   Prob (F-statistic):           2.11e-16\n",
      "Time:                        23:46:27   Log-Likelihood:                -30995.\n",
      "No. Observations:                4745   AIC:                         6.199e+04\n",
      "Df Residuals:                    4743   BIC:                         6.201e+04\n",
      "Df Model:                           1                                         \n",
      "Covariance Type:            nonrobust                                         \n",
      "==============================================================================\n",
      "                 coef    std err          t      P>|t|      [95.0% Conf. Int.]\n",
      "------------------------------------------------------------------------------\n",
      "const        215.2984     12.369     17.406      0.000       191.049   239.548\n",
      "rating       -22.7290      2.757     -8.245      0.000       -28.133   -17.325\n",
      "==============================================================================\n",
      "Omnibus:                     5178.381   Durbin-Watson:                   1.944\n",
      "Prob(Omnibus):                  0.000   Jarque-Bera (JB):           530457.744\n",
      "Skew:                           5.455   Prob(JB):                         0.00\n",
      "Kurtosis:                      53.636   Cond. No.                         24.1\n",
      "==============================================================================\n",
      "\n",
      "Warnings:\n",
      "[1] Standard Errors assume that the covariance matrix of the errors is correctly specified.\n"
     ]
    }
   ],
   "source": [
    "# run simple linear regression model (significant relationship)\n",
    "X = reviews.loc[reviews.review_len > 0, 'rating']\n",
    "y = reviews.loc[reviews.review_len > 0, 'review_len']\n",
    "\n",
    "X2 = sm.add_constant(X)\n",
    "est = sm.OLS(y, X2.astype(float))\n",
    "est2 = est.fit()\n",
    "print(est2.summary())"
   ]
  },
  {
   "cell_type": "markdown",
   "metadata": {},
   "source": [
    "## 5. Predictive Analysis "
   ]
  },
  {
   "cell_type": "markdown",
   "metadata": {},
   "source": [
    "### 5.1 Course Rating"
   ]
  },
  {
   "cell_type": "markdown",
   "metadata": {},
   "source": [
    "In theory 50 unique average course ratings can be distinguished on Udemy (5 stars with each 10 decimals). Given that we approach this as a classification problem, different categories (i.e. bins) must be defined. As becomes evident from the kernel density plot below, the average course-rating distribution is heavily (left) skewed. Thus, a uniform bin distribution such as (0.0-0.9; 1.0-1.9; etc.) is not appropriate which explains the alternative bin distribution below (in accordance with the 25%, 50% and 75% percentiles). \n",
    "\n",
    "| Course Rating | Threshold(s) | Classification |\n",
    "| :------------ | :--------- | :--------- | \n",
    "| Very low |  < 4.1| 1 |\n",
    "| Low-Medium | 4.1 - 4.3 | 2 | \n",
    "| Medium-High | 4.3 - 4.5 | 3 |\n",
    "| Very high | \\> 4.5 | 4 |"
   ]
  },
  {
   "cell_type": "markdown",
   "metadata": {},
   "source": [
    "Side-note:\n",
    "* The spike around 0.0 in the kernel density plot can be explained by the lack of any course review for 24 different courses which can be recognized in the dataset by an average rating of 0.0. In the next steps these courses will be excluded from the sample. This also holds for courses with less than 10 reviews to account for variability. The total number of records after these operations is 367."
   ]
  },
  {
   "cell_type": "code",
   "execution_count": 181,
   "metadata": {},
   "outputs": [
    {
     "name": "stderr",
     "output_type": "stream",
     "text": [
      "/Users/RoyKlaasseBos/RoyKlaasseBos/anaconda/lib/python3.6/site-packages/statsmodels/nonparametric/kdetools.py:20: VisibleDeprecationWarning: using a non-integer number instead of an integer will result in an error in the future\n",
      "  y = X[:m/2+1] + np.r_[0,X[m/2+1:],0]*1j\n"
     ]
    },
    {
     "data": {
      "image/png": "[encoded data removed]",
      "text/plain": [
       "<matplotlib.figure.Figure at 0x115c665c0>"
      ]
     },
     "metadata": {},
     "output_type": "display_data"
    }
   ],
   "source": [
    "f, axes = plt.subplots(1,2, figsize=(12,6)) \n",
    "\n",
    "s1 = sns.boxplot(df.rating_complete, orient='vertical', width=0.6, color='#093b8c', ax=axes[0], fliersize=0)\n",
    "s1.set_title(\"Distribution average course rating\", size=14)\n",
    "s1.set_ylabel(\"Course rating\")\n",
    "\n",
    "s2 = sns.kdeplot(df.rating_complete, ax=axes[1], shade=True, color='#093b8c', legend=False)\n",
    "s2.set_title(\"Distribution average course rating\", size=14)\n",
    "s2.set_xlabel(\"Course star rating\")\n",
    "plt.show()"
   ]
  },
  {
   "cell_type": "code",
   "execution_count": 182,
   "metadata": {
    "collapsed": true,
    "scrolled": true
   },
   "outputs": [],
   "source": [
    "# Define dependent variable (categories) for courses with at least 10 reviews\n",
    "filter =  df.loc[df.num_ratings >= 10, 'rating_complete']\n",
    "\n",
    "df.loc[df.rating_complete <= filter.quantile(0.25),'rating'] = 1\n",
    "df.loc[(df.rating_complete > filter.quantile(0.25)) & (df.rating_complete <= filter.quantile(0.5)),'rating'] = 2\n",
    "df.loc[(df.rating_complete > filter.quantile(0.5)) & (df.rating_complete <= filter.quantile(0.75)),'rating'] = 3\n",
    "df.loc[df.rating_complete > filter.quantile(0.75),'rating'] = 4"
   ]
  },
  {
   "cell_type": "code",
   "execution_count": 183,
   "metadata": {
    "collapsed": true
   },
   "outputs": [],
   "source": [
    "# Exclude courses with less than 10 reviews\n",
    "df2 = df.loc[df.num_ratings >= 10]"
   ]
  },
  {
   "cell_type": "markdown",
   "metadata": {},
   "source": [
    "As a result of using percentiles as thresholds for the course level categories, the four bins contain roughly the same number of records (between 19% and 30%)."
   ]
  },
  {
   "cell_type": "code",
   "execution_count": 184,
   "metadata": {},
   "outputs": [
    {
     "data": {
      "text/plain": [
       "1.0    0.297003\n",
       "2.0    0.286104\n",
       "3.0    0.226158\n",
       "4.0    0.190736\n",
       "Name: rating, dtype: float64"
      ]
     },
     "execution_count": 184,
     "metadata": {},
     "output_type": "execute_result"
    }
   ],
   "source": [
    "# distribution of the four categories\n",
    "df2.rating.value_counts(normalize=True)"
   ]
  },
  {
   "cell_type": "code",
   "execution_count": 185,
   "metadata": {
    "collapsed": true
   },
   "outputs": [],
   "source": [
    "# assign X as a DataFrame of features (and drop correlated/text features) and y as a series of the outcome variable\n",
    "X = df2.drop(['rating', 'avg_star_rating', 'rating_complete', 'audience', 'description', 'what_will_i_learn', 'requirements'], 1)\n",
    "y = df2.rating"
   ]
  },
  {
   "cell_type": "code",
   "execution_count": 186,
   "metadata": {},
   "outputs": [
    {
     "name": "stdout",
     "output_type": "stream",
     "text": [
      "Feature 'course_name' has 367 unique categories\n",
      "Feature 'language' has 8 unique categories\n",
      "Feature 'Search Course 3_link' has 367 unique categories\n",
      "Feature 'course_level' has 4 unique categories\n",
      "Feature 'teacher' has 174 unique categories\n",
      "Feature 'teacher_link' has 174 unique categories\n"
     ]
    }
   ],
   "source": [
    "# decide which categorical variables are included the in model (to avoid an abundance of categories)\n",
    "for col_name in X.columns:\n",
    "    if X[col_name].dtypes == 'object':\n",
    "        unique_cat = len(X[col_name].unique())\n",
    "        print(\"Feature '{col_name}' has {unique_cat} unique categories\".format(col_name = col_name, unique_cat=unique_cat))"
   ]
  },
  {
   "cell_type": "code",
   "execution_count": 187,
   "metadata": {},
   "outputs": [
    {
     "data": {
      "text/plain": [
       "English                430\n",
       "Spanish                 13\n",
       "Japanese                11\n",
       "Portuguese              10\n",
       "German                   7\n",
       "French                   5\n",
       "Vietnamese               2\n",
       "Thai                     2\n",
       "Traditional Chinese      1\n",
       "Russian                  1\n",
       "Korean                   1\n",
       "Name: language, dtype: int64"
      ]
     },
     "execution_count": 187,
     "metadata": {},
     "output_type": "execute_result"
    }
   ],
   "source": [
    "# check distribution of language categories\n",
    "df.language.value_counts()"
   ]
  },
  {
   "cell_type": "code",
   "execution_count": 188,
   "metadata": {
    "collapsed": true
   },
   "outputs": [],
   "source": [
    "# Function to dummy all categorical variables used for modelling\n",
    "def dummy_df(df, to_dummy_list):\n",
    "    for x in to_dummy_list: \n",
    "        dummies = pd.get_dummies(df[x], prefix=x, dummy_na=False)\n",
    "        df = df.drop(x, 1)\n",
    "        df = pd.concat([df, dummies], axis=1)\n",
    "    return df"
   ]
  },
  {
   "cell_type": "code",
   "execution_count": 189,
   "metadata": {
    "collapsed": true
   },
   "outputs": [],
   "source": [
    "def process_categories(X):\n",
    "    # Bucket low frequency languages as \"Other\"\n",
    "    X['language'] = ['English' if x == 'English' else 'Other' for x in X['language']]\n",
    "\n",
    "    # Remove features with too many unique categories\n",
    "    X.drop(['course_name', 'teacher', 'teacher_link', 'Search Course 3_link'], 1, inplace=True)\n",
    "\n",
    "    # Convert original price to integer (again)\n",
    "    X['original_price'] = X['original_price'].astype(int) \n",
    "    \n",
    "    # Create a list of features to dummy\n",
    "    todummy_list = ['language', 'course_level']\n",
    "    \n",
    "    X = dummy_df(X, todummy_list)\n",
    "    \n",
    "    return X"
   ]
  },
  {
   "cell_type": "code",
   "execution_count": 190,
   "metadata": {
    "collapsed": true
   },
   "outputs": [],
   "source": [
    "X = process_categories(X)"
   ]
  },
  {
   "cell_type": "markdown",
   "metadata": {},
   "source": [
    "Now that we have a set of relevant input features (28), additional interactions terms of size 2 are added. For some dummy variables this can lead to interaction terms with all 0 values; these features will be excluded. After that we end up with 397 unique features of which the 20 most important ones are selected."
   ]
  },
  {
   "cell_type": "code",
   "execution_count": 191,
   "metadata": {
    "collapsed": true
   },
   "outputs": [],
   "source": [
    "# Interactions\n",
    "from itertools import combinations\n",
    "from sklearn.preprocessing import PolynomialFeatures\n",
    "\n",
    "def add_interactions(df):\n",
    "    # Get feature names\n",
    "    combos = list(combinations(list(df.columns), 2))\n",
    "    colnames = list(df.columns) + ['_'.join(x) for x in combos]\n",
    "    \n",
    "    # Find interactions\n",
    "    poly = PolynomialFeatures(interaction_only=True, include_bias=False)\n",
    "    df = poly.fit_transform(df)\n",
    "    df = pd.DataFrame(df)\n",
    "    df.columns = colnames\n",
    "    \n",
    "    # Remove Interaction terms with all 0 values \n",
    "    noint_indices = [i for i, x in enumerate(list((df == 0).all())) if x]\n",
    "    df = df.drop(df.columns[noint_indices], axis=1)\n",
    "    \n",
    "    return df"
   ]
  },
  {
   "cell_type": "code",
   "execution_count": 192,
   "metadata": {
    "collapsed": true
   },
   "outputs": [],
   "source": [
    "X = add_interactions(X)"
   ]
  },
  {
   "cell_type": "code",
   "execution_count": 193,
   "metadata": {},
   "outputs": [
    {
     "name": "stdout",
     "output_type": "stream",
     "text": [
      "(483, 32)\n",
      "(367, 316)\n"
     ]
    }
   ],
   "source": [
    "# The total number of features have grown significantly after dummying and adding interaction terms\n",
    "# The number of records has decreased however due to exclusion of courses with less than 10 ratings\n",
    "print(df.shape)\n",
    "print(X.shape)"
   ]
  },
  {
   "cell_type": "code",
   "execution_count": 194,
   "metadata": {},
   "outputs": [],
   "source": [
    "# use train_test_split in sklearn.cross_validation to split data into a train (80%), test (20%)\n",
    "from sklearn.cross_validation import train_test_split\n",
    "\n",
    "X_train, X_test, y_train, y_test = train_test_split(X, y, train_size=0.8, random_state=1)"
   ]
  },
  {
   "cell_type": "code",
   "execution_count": 195,
   "metadata": {
    "collapsed": true
   },
   "outputs": [],
   "source": [
    "# Such a large set of features can cause overfitting and also slow computing\n",
    "# Use feature selection to select the most important features\n",
    "import sklearn.feature_selection\n",
    "\n",
    "def select_features(X_train, y_train, X_test, y_test, k=20):\n",
    "    select = sklearn.feature_selection.SelectKBest(k=k)\n",
    "    selected_features = select.fit(X_train, y_train)\n",
    "    indices_selected = selected_features.get_support(indices=True)\n",
    "    colnames_selected = [X.columns[i] for i in indices_selected]\n",
    "\n",
    "    X_train_selected = X_train[colnames_selected]\n",
    "    X_test_selected = X_test[colnames_selected]\n",
    "    \n",
    "    return colnames_selected, X_train_selected, X_test_selected\n",
    "\n",
    "colnames_selected, X_train_selected, X_test_selected = select_features(X_train, y_train, X_test, y_test)"
   ]
  },
  {
   "cell_type": "code",
   "execution_count": 196,
   "metadata": {},
   "outputs": [
    {
     "data": {
      "text/plain": [
       "['total_reviews',\n",
       " 'total_students',\n",
       " 'avg_prior_rating',\n",
       " 'best_seller_language_English',\n",
       " 'current_price_total_reviews',\n",
       " 'num_lectures_total_reviews',\n",
       " 'original_price_total_reviews',\n",
       " 'original_price_total_students',\n",
       " 'total_reviews_english_captions',\n",
       " 'total_reviews_paid_course',\n",
       " 'total_reviews_avg_prior_rating',\n",
       " 'total_reviews_num_instructors',\n",
       " 'total_reviews_discount',\n",
       " 'total_reviews_language_English',\n",
       " 'total_reviews_course_level_All Levels',\n",
       " 'total_students_english_captions',\n",
       " 'total_students_avg_prior_rating',\n",
       " 'total_students_num_instructors',\n",
       " 'total_students_discount',\n",
       " 'total_students_language_English']"
      ]
     },
     "execution_count": 196,
     "metadata": {},
     "output_type": "execute_result"
    }
   ],
   "source": [
    "colnames_selected"
   ]
  },
  {
   "cell_type": "markdown",
   "metadata": {},
   "source": [
    "At this point the data has been successfully preprocessed and we can finally start modelling. But first the choice for a subset of appropriate algorithms is argued in the next section."
   ]
  },
  {
   "cell_type": "markdown",
   "metadata": {},
   "source": [
    "## Machine-Learning Algorithm Argumentation"
   ]
  },
  {
   "cell_type": "markdown",
   "metadata": {},
   "source": [
    "<b>Problem Definition</b><br/>\n",
    "This problem can be characterized as a classification problem because the dataset contains a categorial target variable: bin 1, 2, 3 or 4. Still, there are a multitude of machine learning algorithms to choose from. Each of them has its pros and cons and the optimal choice therefore largely depends on the problem at hand. Using the table / cheatsheet below as well as the characteristics of the dataset, data-driven reasoning is applied to find a subset of algorithms which fits the business objective best. This brings us to a formalization of the objective function and thus a selection of an appropriate performance metric / KPI. <br/>\n",
    "\n",
    "<b>Performance Metric</b><br/>\n",
    "As presented before, the bins are fairly evenly distributed (between 19% and 30% of all records). It has been presumed that all bins are equally important: a too low prediction counts as heavily as a too high prediction. In more concrete terms, the objective function is to optimize the number of true positives and false negatives. This fact is best expressed by the cross-validated accuracy score. <br/>\n",
    "\n",
    "<b>Algorithm Choice</b><br/>\n",
    "The dataset contains 316 features (of which 20 will be used) which have varying statistical relevance for the dependent variable (see Hypotheses Testing section). That is why the Naive Bayes, KNN and (Kernel) SVM algorithms aren't the best choice for this given problem. Even though explainability is not a key objective alone - since we already did that in the descriptive analysis - a Logistic Regression and Decision Tree algorithm will be considered in addition to the Random Forest method which is known for its high accuracy (but low interpretability). For the Decision Tree and Random Forest implementations attention should be especially paid to avoid the risk of overfitting the data. <br/>\n",
    "\n",
    "In short, the cross-validated accuracy score for a Logistic Regression, Decision Tree and Random Forest model will be calculated after which hyper-parameter tuning is applied to the two best performing models."
   ]
  },
  {
   "cell_type": "markdown",
   "metadata": {},
   "source": [
    "| Classification Model | Pros | Cons| \n",
    "| :------------------- | :--- | :-- | \n",
    "| Logistic Regression | Probabilistic approach, gives information about statistical significance of features | The Logistic Regression Assumptions | \n",
    "| KNN | Simple to understand, fast and efficient | Need to choose the number of neighbors k. Needs a small dataset with many records to work well. | \n",
    "| SVM | Performant, not biased by outliers, not sensitive to overfitting | Not appropriate for non linear problems, not the best choice for large number of features. | \n",
    "| Kernel SVM | High performance on nonlinear problems, not biased by outliers, not sensitive to overfitting | Not the best choice for large number of features, more complex | \n",
    "| Naive Bayes | Efficient, not biased by outliers, works on nonlienar problems, probabilistic approach | Based on the assumption that features have same statistical relevance | \n",
    "| Decision Tree Classification | Interpretability, no need for feature scaling, works on both linear / nonlinear problems. | Poor results on too small datasets, overfitting can easily occur | \n",
    "| Random Forest Classification | Powerful and accurate, good performance on many problems, including non linear | No interpretability, overfitting can easily occur, need to choose the number of trees | \n",
    "\n",
    "\n",
    "Table content retrieved from: [SuperDataScience](https://www.superdatascience.com/wp-content/uploads/2017/02/Classification-Pros-Cons.pdf) (part of a <i>Udemy</i> course)."
   ]
  },
  {
   "cell_type": "markdown",
   "metadata": {},
   "source": [
    "<img src=\"https://blogs.sas.com/content/subconsciousmusings/files/2017/04/machine-learning-cheet-sheet.png\">\n",
    "<p style=\"clear: both\"><caption><i> Machine Learning Algorithms Cheat Sheet - Retrieved from: <a href=\"https://blogs.sas.com/content/subconsciousmusings/2017/04/12/machine-learning-algorithm-use/#prettyPhoto\">(Li, 2017)</a></i></caption></p>"
   ]
  },
  {
   "cell_type": "code",
   "execution_count": 197,
   "metadata": {
    "collapsed": true
   },
   "outputs": [],
   "source": [
    "from sklearn.model_selection import KFold, cross_val_score, train_test_split, GridSearchCV\n",
    "from sklearn.metrics import roc_auc_score, roc_curve, confusion_matrix, classification_report\n",
    "from sklearn.dummy import DummyClassifier\n",
    "from sklearn.linear_model import LogisticRegression\n",
    "from sklearn.tree import DecisionTreeClassifier\n",
    "from sklearn.ensemble import RandomForestClassifier"
   ]
  },
  {
   "cell_type": "code",
   "execution_count": 198,
   "metadata": {},
   "outputs": [
    {
     "data": {
      "text/plain": [
       "Dummy    0.297095\n",
       "LR       0.434694\n",
       "DT       0.517585\n",
       "RF       0.496658\n",
       "dtype: float64"
      ]
     },
     "execution_count": 198,
     "metadata": {},
     "output_type": "execute_result"
    },
    {
     "data": {
      "image/png": "[encoded data removed]",
      "text/plain": [
       "<matplotlib.figure.Figure at 0x11a4180b8>"
      ]
     },
     "metadata": {},
     "output_type": "display_data"
    }
   ],
   "source": [
    "from collections import OrderedDict\n",
    "\n",
    "def compare_classifiers(X, y, label, scoring=\"accuracy\", cv=10):\n",
    "    models = [\n",
    "        (\"Dummy\", DummyClassifier(strategy=\"most_frequent\")),\n",
    "        (\"LR\", LogisticRegression(random_state=10)),\n",
    "        (\"DT\", DecisionTreeClassifier(random_state=10)), \n",
    "        (\"RF\", RandomForestClassifier(random_state=10))]\n",
    "\n",
    "    results = OrderedDict()\n",
    "    for name, model in models:\n",
    "        cv_results = cross_val_score(model, X[colnames_selected], y, cv=cv, scoring=scoring)\n",
    "        results[name] = cv_results\n",
    "\n",
    "    results = pd.DataFrame(results)\n",
    "    plt.figure(figsize=(10, 6))\n",
    "    plt.bar(range(results.shape[1]), results.mean(), yerr=results.std(), color=[\"#093b8c\", \"#093b8c\", \"#6EB4BF\", \"#6EB4BF\"])\n",
    "    plt.gca().set_xticklabels([\"\", \"\", \"Dummy\", \"\", \"LR\", \"\", \"DT\",  \"\", \"RF\", \"\",\"\"])\n",
    "    plt.title(\"Comparison of \" + label + \" for multiple classifiers\", y=-.15)\n",
    "    plt.ylabel(label.title())\n",
    "    plt.subplots_adjust(bottom=.2)\n",
    "    \n",
    "    return results.mean()\n",
    "\n",
    "compare_classifiers(X,y, \"accuracy\")"
   ]
  },
  {
   "cell_type": "markdown",
   "metadata": {},
   "source": [
    "The Decision Tree and Random Forest models perform best (22 and 20 percentage points above the baseline model respectively). That's why grid search is applied to both algorithms. After selecting the optimal hyper parameters the decision tree model reaches an accuracy of 55.4% on the test set (that is 3.6 percentage points higher than the cross-validated model performance). The corresponding confusion matrix shows that the model makes especially many mistakes for courses with a rating lower than 4.1; 48% of them are misclassified as category 2 (rating between 4.1 and 4.3). In that sense, the model is overly optimistic: of the incorrect predictions 23 courses have been classified one or more course levels higher, whereas only 10 courses have been classified too low."
   ]
  },
  {
   "cell_type": "code",
   "execution_count": 199,
   "metadata": {},
   "outputs": [
    {
     "name": "stdout",
     "output_type": "stream",
     "text": [
      "RANDOM FOREST\n",
      "accuracy :  0.5324232081911263\n",
      "{'max_depth': 14, 'min_samples_split': 6, 'n_estimators': 5}\n",
      "DECISION TREE\n",
      "accuracy :  0.49146757679180886\n",
      "{'max_depth': 8, 'min_samples_split': 4}\n"
     ]
    }
   ],
   "source": [
    "from sklearn.grid_search import GridSearchCV\n",
    "\n",
    "rf_params = {\"n_estimators\": list(range(1, 20, 2)), \n",
    "             \"max_depth\": list(range(2, 22, 2)), \n",
    "             \"min_samples_split\": list(range(4, 10, 2))}\n",
    "dt_params = {\"min_samples_split\": list(range(4, 10, 2)), \n",
    "             \"max_depth\": list(range(2, 22, 2))}\n",
    "\n",
    "def find_parameters(model, model_name, params, scoring, cv=5):\n",
    "    grid = GridSearchCV(model, params, cv=cv, scoring=scoring)\n",
    "    grid.fit(X_train_selected, y_train)\n",
    "    print(model_name.upper())\n",
    "    print(str(scoring), \": \", grid.best_score_)\n",
    "    print(grid.best_params_)\n",
    "\n",
    "find_parameters(RandomForestClassifier(random_state=10), \"Random Forest\", rf_params, \"accuracy\")\n",
    "find_parameters(DecisionTreeClassifier(random_state=10), \"Decision Tree\", dt_params, \"accuracy\")"
   ]
  },
  {
   "cell_type": "code",
   "execution_count": 200,
   "metadata": {
    "collapsed": true
   },
   "outputs": [],
   "source": [
    "from sklearn import metrics\n",
    "\n",
    "def show_output(predict_test):\n",
    "    print(\"Confusion Matrix:\")\n",
    "    print(metrics.confusion_matrix(y_test, predict_test))\n",
    "    print(\"#######################################################\")\n",
    "    print(\"Accuracy: \", metrics.accuracy_score(y_test, predict_test))\n",
    "    print(\"#######################################################\")\n",
    "    print(metrics.classification_report(y_test, predict_test))"
   ]
  },
  {
   "cell_type": "code",
   "execution_count": 201,
   "metadata": {},
   "outputs": [
    {
     "name": "stdout",
     "output_type": "stream",
     "text": [
      "Confusion Matrix:\n",
      "[[ 8  5  1  1]\n",
      " [10 10  1  2]\n",
      " [ 2  7  8  3]\n",
      " [ 1  2  5  8]]\n",
      "#######################################################\n",
      "Accuracy:  0.459459459459\n",
      "#######################################################\n",
      "             precision    recall  f1-score   support\n",
      "\n",
      "        1.0       0.38      0.53      0.44        15\n",
      "        2.0       0.42      0.43      0.43        23\n",
      "        3.0       0.53      0.40      0.46        20\n",
      "        4.0       0.57      0.50      0.53        16\n",
      "\n",
      "avg / total       0.47      0.46      0.46        74\n",
      "\n"
     ]
    }
   ],
   "source": [
    "# RANDOM FOREST TREE\n",
    "rf_model = RandomForestClassifier(max_depth=14, n_estimators=5, min_samples_split=6, random_state=5)\n",
    "rf_model.fit(X_train_selected, y_train)\n",
    "rf_predict_test = rf_model.predict(X_test_selected)\n",
    "show_output(rf_predict_test)"
   ]
  },
  {
   "cell_type": "code",
   "execution_count": 202,
   "metadata": {},
   "outputs": [
    {
     "name": "stdout",
     "output_type": "stream",
     "text": [
      "Confusion Matrix:\n",
      "[[11  2  2  0]\n",
      " [12  7  2  2]\n",
      " [ 0  4 14  2]\n",
      " [ 2  2  3  9]]\n",
      "#######################################################\n",
      "Accuracy:  0.554054054054\n",
      "#######################################################\n",
      "             precision    recall  f1-score   support\n",
      "\n",
      "        1.0       0.44      0.73      0.55        15\n",
      "        2.0       0.47      0.30      0.37        23\n",
      "        3.0       0.67      0.70      0.68        20\n",
      "        4.0       0.69      0.56      0.62        16\n",
      "\n",
      "avg / total       0.56      0.55      0.54        74\n",
      "\n"
     ]
    }
   ],
   "source": [
    "# DECISION TREE\n",
    "from sklearn import tree\n",
    "\n",
    "dt_model = DecisionTreeClassifier(max_depth=8, min_samples_split=4, random_state=5)\n",
    "dt_model.fit(X_train_selected, y_train)\n",
    "dt_predict_test = dt_model.predict(X_test_selected)\n",
    "show_output(dt_predict_test)"
   ]
  },
  {
   "cell_type": "markdown",
   "metadata": {},
   "source": [
    "## 5.2 Best-seller"
   ]
  },
  {
   "cell_type": "markdown",
   "metadata": {},
   "source": [
    "The data sample contains 59 best-seller courses (12.2%). It can be expected that \"best-seller\" courses have the highest number of students enrolled compared to other courses in the Data & Analytics subcategory. Surprisingly, this is not the case: 19 out of the 59 courses with the highest number of enrolments are classified as best-sellers (32.2%). There is even a best-seller course with just 57 students!"
   ]
  },
  {
   "cell_type": "code",
   "execution_count": 203,
   "metadata": {},
   "outputs": [
    {
     "data": {
      "text/plain": [
       "0    424\n",
       "1     59\n",
       "Name: best_seller, dtype: int64"
      ]
     },
     "execution_count": 203,
     "metadata": {},
     "output_type": "execute_result"
    }
   ],
   "source": [
    "df.best_seller.value_counts()"
   ]
  },
  {
   "cell_type": "code",
   "execution_count": 204,
   "metadata": {},
   "outputs": [
    {
     "data": {
      "text/plain": [
       "0    40\n",
       "1    19\n",
       "Name: best_seller, dtype: int64"
      ]
     },
     "execution_count": 204,
     "metadata": {},
     "output_type": "execute_result"
    }
   ],
   "source": [
    "top_59_students_enrolled = df[['best_seller', 'students_enrolled']].sort_values('students_enrolled', ascending=False).head(59)\n",
    "top_59_students_enrolled.best_seller.value_counts()"
   ]
  },
  {
   "cell_type": "markdown",
   "metadata": {},
   "source": [
    "A confounding variable in this relationship could be the number of days since the publication of the course. That is because some courses might have been released more than 2.5 years ago, whereas others have only been available since a few days. Therefore, another variable: `students_per_day` (i.e. average number of enrolments per day since the last course update) has been defined. Nonetheless, 19 out of the 59 courses with the highest `students_per_day` are classified as best sellers (32.2%). Note, that although this ratio is the same, the top 59 ranking consists of different courses."
   ]
  },
  {
   "cell_type": "code",
   "execution_count": 205,
   "metadata": {},
   "outputs": [
    {
     "data": {
      "text/plain": [
       "0    40\n",
       "1    19\n",
       "Name: best_seller, dtype: int64"
      ]
     },
     "execution_count": 205,
     "metadata": {},
     "output_type": "execute_result"
    }
   ],
   "source": [
    "df['students_per_day'] = df['students_enrolled'] / df['time_since_last_update'] \n",
    "top_59_students_per_day = df[['best_seller', 'students_per_day']].sort_values('students_per_day', ascending=False).head(59)\n",
    "top_59_students_per_day.best_seller.value_counts()"
   ]
  },
  {
   "cell_type": "code",
   "execution_count": 206,
   "metadata": {},
   "outputs": [
    {
     "data": {
      "text/html": [
       "<div>\n",
       "<table border=\"1\" class=\"dataframe\">\n",
       "  <thead>\n",
       "    <tr style=\"text-align: right;\">\n",
       "      <th></th>\n",
       "      <th>best_seller</th>\n",
       "      <th>students_enrolled</th>\n",
       "    </tr>\n",
       "  </thead>\n",
       "  <tbody>\n",
       "    <tr>\n",
       "      <th>23</th>\n",
       "      <td>1</td>\n",
       "      <td>140016</td>\n",
       "    </tr>\n",
       "    <tr>\n",
       "      <th>524</th>\n",
       "      <td>0</td>\n",
       "      <td>69989</td>\n",
       "    </tr>\n",
       "    <tr>\n",
       "      <th>518</th>\n",
       "      <td>0</td>\n",
       "      <td>57409</td>\n",
       "    </tr>\n",
       "    <tr>\n",
       "      <th>358</th>\n",
       "      <td>0</td>\n",
       "      <td>57344</td>\n",
       "    </tr>\n",
       "    <tr>\n",
       "      <th>549</th>\n",
       "      <td>1</td>\n",
       "      <td>56917</td>\n",
       "    </tr>\n",
       "  </tbody>\n",
       "</table>\n",
       "</div>"
      ],
      "text/plain": [
       "     best_seller  students_enrolled\n",
       "23             1             140016\n",
       "524            0              69989\n",
       "518            0              57409\n",
       "358            0              57344\n",
       "549            1              56917"
      ]
     },
     "execution_count": 206,
     "metadata": {},
     "output_type": "execute_result"
    }
   ],
   "source": [
    "top_59_students_enrolled.sort_values('students_enrolled', ascending=False).head()"
   ]
  },
  {
   "cell_type": "code",
   "execution_count": 207,
   "metadata": {
    "scrolled": true
   },
   "outputs": [
    {
     "data": {
      "text/html": [
       "<div>\n",
       "<table border=\"1\" class=\"dataframe\">\n",
       "  <thead>\n",
       "    <tr style=\"text-align: right;\">\n",
       "      <th></th>\n",
       "      <th>best_seller</th>\n",
       "      <th>students_per_day</th>\n",
       "    </tr>\n",
       "  </thead>\n",
       "  <tbody>\n",
       "    <tr>\n",
       "      <th>19</th>\n",
       "      <td>1</td>\n",
       "      <td>5133.000000</td>\n",
       "    </tr>\n",
       "    <tr>\n",
       "      <th>23</th>\n",
       "      <td>1</td>\n",
       "      <td>3500.400000</td>\n",
       "    </tr>\n",
       "    <tr>\n",
       "      <th>0</th>\n",
       "      <td>1</td>\n",
       "      <td>2607.444444</td>\n",
       "    </tr>\n",
       "    <tr>\n",
       "      <th>491</th>\n",
       "      <td>0</td>\n",
       "      <td>2593.000000</td>\n",
       "    </tr>\n",
       "    <tr>\n",
       "      <th>461</th>\n",
       "      <td>0</td>\n",
       "      <td>1182.555556</td>\n",
       "    </tr>\n",
       "  </tbody>\n",
       "</table>\n",
       "</div>"
      ],
      "text/plain": [
       "     best_seller  students_per_day\n",
       "19             1       5133.000000\n",
       "23             1       3500.400000\n",
       "0              1       2607.444444\n",
       "491            0       2593.000000\n",
       "461            0       1182.555556"
      ]
     },
     "execution_count": 207,
     "metadata": {},
     "output_type": "execute_result"
    }
   ],
   "source": [
    "top_59_students_per_day.sort_values('students_per_day', ascending=False).head()"
   ]
  },
  {
   "cell_type": "markdown",
   "metadata": {},
   "source": [
    "All in all, we can conclude that a best-seller course is not directly related to the number of students enrolled neither the average number of enrolments per day. Rather than coming up with intuitive if-else rules, machine learning will be used to identify underlying predictors of best-seller courses."
   ]
  },
  {
   "cell_type": "markdown",
   "metadata": {},
   "source": [
    "<b>Performance Metric</b><br />\n",
    "Contrary to the previous classification problem, \"accuracy\" is not a good performance metric here. That is because only 12.2% of the records are classified as \"best-seller\" and thus the baseline accuracy (i.e. no course will be a best-seller) would be 87.8%. Instead, we try to optimize the Area Under the Curve (AUC) score which is independent of the class distribution."
   ]
  },
  {
   "cell_type": "code",
   "execution_count": 208,
   "metadata": {},
   "outputs": [
    {
     "data": {
      "text/plain": [
       "0    424\n",
       "1     59\n",
       "Name: best_seller, dtype: int64"
      ]
     },
     "execution_count": 208,
     "metadata": {},
     "output_type": "execute_result"
    }
   ],
   "source": [
    "df.best_seller.value_counts()"
   ]
  },
  {
   "cell_type": "markdown",
   "metadata": {},
   "source": [
    "<b>Algorithm choice</b><br />\n",
    "The argumentation for the algorithm choice remains the same as in the previous section because the dataset and the type of problem have not changed. The only difference is that we have a 2-class (Best-seller / No best-seller) rather than a 4-class (bin: 1, 2, 3, 4) classification problem of which the two classes are relatively skewed. Put differently, after the data has been prepared for modelling a Logistic Regression, Decision Tree and Random Forest model are fitted to the data."
   ]
  },
  {
   "cell_type": "markdown",
   "metadata": {},
   "source": [
    "<b>Interpretability</b><br/>\n",
    "In addition to predictive modelling, a backwards elimination approach has been utilized to end up with the following significant features: best-seller courses typically have more ratings, more students enrolled, more instructors and a higher absolute discount. Also, they are relatively more often available for free and have been updated more recently. In fact, paid courses have 92.4% less chance to become a best-seller course and courses which involve 1 more teacher have 92.4% <i>more</i> chance to be classified as a best-seller."
   ]
  },
  {
   "cell_type": "code",
   "execution_count": 209,
   "metadata": {},
   "outputs": [
    {
     "name": "stdout",
     "output_type": "stream",
     "text": [
      "Optimization terminated successfully.\n",
      "         Current function value: 0.358512\n",
      "         Iterations 7\n",
      "                           Logit Regression Results                           \n",
      "==============================================================================\n",
      "Dep. Variable:            best_seller   No. Observations:                  364\n",
      "Model:                          Logit   Df Residuals:                      358\n",
      "Method:                           MLE   Df Model:                            5\n",
      "Date:                Tue, 05 Dec 2017   Pseudo R-squ.:                  0.1739\n",
      "Time:                        23:47:04   Log-Likelihood:                -130.50\n",
      "converged:                       True   LL-Null:                       -157.97\n",
      "                                        LLR p-value:                 1.344e-10\n",
      "==========================================================================================\n",
      "                             coef    std err          z      P>|z|      [95.0% Conf. Int.]\n",
      "------------------------------------------------------------------------------------------\n",
      "num_ratings                0.0011      0.000      2.821      0.005         0.000     0.002\n",
      "students_enrolled         -0.0001    5.7e-05     -2.574      0.010        -0.000  -3.5e-05\n",
      "paid_course               -2.5709      0.450     -5.717      0.000        -3.452    -1.690\n",
      "time_since_last_update    -0.0030      0.001     -3.972      0.000        -0.004    -0.001\n",
      "num_instructors            0.6544      0.244      2.681      0.007         0.176     1.133\n",
      "discount                   0.0083      0.003      2.961      0.003         0.003     0.014\n",
      "==========================================================================================\n",
      "num_ratings               1.001074\n",
      "students_enrolled         0.999853\n",
      "paid_course               0.076467\n",
      "time_since_last_update    0.997054\n",
      "num_instructors           1.924045\n",
      "discount                  1.008322\n",
      "dtype: float64\n"
     ]
    }
   ],
   "source": [
    "logit = sm.Logit(df.loc[df.num_ratings > 10, 'best_seller'], df.loc[df.num_ratings > 10, ['num_ratings', 'students_enrolled', 'paid_course', 'time_since_last_update', 'num_instructors', 'discount']])\n",
    "\n",
    "# fit the model\n",
    "result = logit.fit()\n",
    "\n",
    "print(result.summary())\n",
    "\n",
    "# convert to odds ratio\n",
    "print(np.exp(result.params))"
   ]
  },
  {
   "cell_type": "code",
   "execution_count": 210,
   "metadata": {
    "collapsed": true
   },
   "outputs": [],
   "source": [
    "# assign X as a DataFrame of features (and drop correlated/text features) and y as a series of the outcome variable\n",
    "X = df.drop(['best_seller', 'audience', 'description', 'what_will_i_learn', 'requirements', 'rating'], 1)\n",
    "y = df.best_seller"
   ]
  },
  {
   "cell_type": "code",
   "execution_count": 211,
   "metadata": {
    "collapsed": true
   },
   "outputs": [],
   "source": [
    "'''\n",
    "To avoid a lot of code repetition, functions from section 5.1 have been used repeatedly. \n",
    "Revisit earlier code blocks for a line by line description.\n",
    "'''\n",
    "\n",
    "# convert language variable, remove features with too many categories, convert original price to integer and create dummy variables\n",
    "X = process_categories(X)\n",
    "\n",
    "# add interactions to the feature set\n",
    "X = add_interactions(X)"
   ]
  },
  {
   "cell_type": "code",
   "execution_count": 212,
   "metadata": {},
   "outputs": [
    {
     "name": "stdout",
     "output_type": "stream",
     "text": [
      "['num_ratings', 'total_students', 'current_price_num_ratings', 'current_price_students_enrolled', 'current_price_total_reviews', 'current_price_total_students', 'hours_video_num_instructors', 'num_lectures_num_instructors', 'num_ratings_original_price', 'num_ratings_avg_star_rating', 'num_ratings_paid_course', 'num_ratings_rating_complete', 'num_ratings_avg_prior_rating', 'num_ratings_num_instructors', 'num_ratings_discount', 'num_ratings_course_level_All Levels', 'original_price_students_enrolled', 'original_price_total_students', 'original_price_rating_complete', 'original_price_num_instructors', 'students_enrolled_paid_course', 'students_enrolled_num_instructors', 'students_enrolled_discount', 'avg_star_rating_total_reviews', 'avg_star_rating_total_students', 'avg_star_rating_num_instructors', 'total_reviews_paid_course', 'total_reviews_rating_complete', 'total_reviews_num_instructors', 'total_reviews_language_English', 'total_students_paid_course', 'total_students_rating_complete', 'total_students_avg_prior_rating', 'total_students_num_instructors', 'total_students_discount', 'total_students_language_English', 'total_students_course_level_All Levels', 'rating_complete_num_instructors', 'rating_complete_discount', 'num_instructors_discount']\n"
     ]
    },
    {
     "name": "stderr",
     "output_type": "stream",
     "text": [
      "/Users/RoyKlaasseBos/RoyKlaasseBos/anaconda/lib/python3.6/site-packages/sklearn/feature_selection/univariate_selection.py:113: UserWarning: Features [367] are constant.\n",
      "  UserWarning)\n",
      "/Users/RoyKlaasseBos/RoyKlaasseBos/anaconda/lib/python3.6/site-packages/sklearn/feature_selection/univariate_selection.py:114: RuntimeWarning: invalid value encountered in true_divide\n",
      "  f = msb / msw\n"
     ]
    }
   ],
   "source": [
    "# use train_test_split in sklearn.cross_validation to split data into a train (70%), test (30%)\n",
    "from sklearn.cross_validation import train_test_split\n",
    "\n",
    "X_train, X_test, y_train, y_test = train_test_split(X, y, train_size=0.7, random_state=1)\n",
    "\n",
    "# select 40 most important features\n",
    "colnames_selected, X_train_selected, X_test_selected = select_features(X_train, y_train, X_test, y_test, 40)\n",
    "print(colnames_selected)"
   ]
  },
  {
   "cell_type": "markdown",
   "metadata": {},
   "source": [
    "The following bar chart illustrates the difference between accuracy and AUC-score. As expected the dummy classifier gets a AUC-score of exactly 0.50. The Logistic Regression model performs slightly better than that (+3.0 percentage point) and dependent on the number of estimators the tree based implementations perform moderately (+6.1 percentage points - Decision Tree) to notably (+22.9 percentage points - Random Forest) better than random guessing. So there is a clear winner which explains why only the Random Forest model is taken into account for hyper-parameter tuning."
   ]
  },
  {
   "cell_type": "code",
   "execution_count": 213,
   "metadata": {
    "scrolled": true
   },
   "outputs": [
    {
     "data": {
      "text/plain": [
       "Dummy    0.500000\n",
       "LR       0.530352\n",
       "DT       0.531073\n",
       "RF       0.743520\n",
       "dtype: float64"
      ]
     },
     "execution_count": 213,
     "metadata": {},
     "output_type": "execute_result"
    },
    {
     "data": {
      "image/png": "[encoded data removed]",
      "text/plain": [
       "<matplotlib.figure.Figure at 0x11d53b7f0>"
      ]
     },
     "metadata": {},
     "output_type": "display_data"
    }
   ],
   "source": [
    "compare_classifiers(X_train, y_train, \"AUC-score\", \"roc_auc\", cv=5)"
   ]
  },
  {
   "cell_type": "markdown",
   "metadata": {},
   "source": [
    "The Random Forest model achieves an AUC score of 66.3% on the test set. Note that this is lower than the cross-validated AUC-score. This can be explained by the testing methodology that was adopted: the dataset was first split into a training (70%) and testing set (30%). Then, the cross-validation split the training set into 5 folds. So the AUC-scores have been calculated on a sample of 14% of the total volume dataset (only ∼67 rows). Such small sample sizes can lead to variable results.\n",
    "\n",
    "Additionally, note that the model has only predicted one third of all best-seller courses. At the same time 85.7%  of all best-seller predictions for the test-set are correct. "
   ]
  },
  {
   "cell_type": "code",
   "execution_count": 214,
   "metadata": {},
   "outputs": [
    {
     "name": "stdout",
     "output_type": "stream",
     "text": [
      "RANDOM FOREST\n",
      "roc_auc :  0.8049084010296527\n",
      "{'max_depth': 6, 'min_samples_split': 6, 'n_estimators': 17}\n"
     ]
    }
   ],
   "source": [
    "find_parameters(RandomForestClassifier(random_state=10), \"Random Forest\", rf_params, \"roc_auc\", cv=5)"
   ]
  },
  {
   "cell_type": "code",
   "execution_count": 215,
   "metadata": {},
   "outputs": [
    {
     "name": "stdout",
     "output_type": "stream",
     "text": [
      "AUC:  0.662729658793\n",
      "Confusion Matrix:\n",
      "[[126   1]\n",
      " [ 12   6]]\n",
      "#######################################################\n",
      "Accuracy:  0.910344827586\n",
      "#######################################################\n",
      "             precision    recall  f1-score   support\n",
      "\n",
      "          0       0.91      0.99      0.95       127\n",
      "          1       0.86      0.33      0.48        18\n",
      "\n",
      "avg / total       0.91      0.91      0.89       145\n",
      "\n"
     ]
    }
   ],
   "source": [
    "rf_model = RandomForestClassifier(max_depth=6, min_samples_split=6, n_estimators=17, random_state=5)\n",
    "rf_model.fit(X_train_selected, y_train)\n",
    "rf_predict_test = rf_model.predict(X_test_selected)\n",
    "print(\"AUC: \", roc_auc_score(y_test, rf_predict_test))\n",
    "show_output(rf_predict_test)"
   ]
  },
  {
   "cell_type": "markdown",
   "metadata": {},
   "source": [
    "---"
   ]
  },
  {
   "cell_type": "markdown",
   "metadata": {},
   "source": [
    "## 5.3 Course Review"
   ]
  },
  {
   "cell_type": "markdown",
   "metadata": {},
   "source": [
    "In this section we are going to briefly look at the following text classification problem: *given a corpus of course reviews can we predict whether a rating corresponding to a review was positive (4.0, 4.5 and 5.0 stars) or negative (0.5, 1.0, 1.5 and 2.0 stars)?* Note that reviews with 2.5, 3.0 and 3.5 stars will be excluded in this analysis, because they tend to contain both positive and negative arguments. "
   ]
  },
  {
   "cell_type": "code",
   "execution_count": 216,
   "metadata": {
    "collapsed": true
   },
   "outputs": [],
   "source": [
    "# create positive and negative reviews column\n",
    "reviews.loc[reviews.rating >= 4.0, 'sentiment'] = 1\n",
    "reviews.loc[reviews.rating <= 2.0, 'sentiment'] = 0\n",
    "\n",
    "# selects reviews with text\n",
    "r_text = reviews.loc[(reviews.empty_num == 0) & ((reviews.rating <=2.0) | (reviews.rating >= 4.0))]"
   ]
  },
  {
   "cell_type": "markdown",
   "metadata": {},
   "source": [
    "After excluding all reviews without text and \"neutral\" reviews we end up with 4108 reviews of which more than 97% can be categorized as positive. This imbalance will be taken into account in the evaluation stage, but we first instantiate the CountVectorizer and create a document-term matrix for both the training and test set."
   ]
  },
  {
   "cell_type": "code",
   "execution_count": 217,
   "metadata": {},
   "outputs": [
    {
     "data": {
      "text/plain": [
       "1.0    3949\n",
       "0.0     159\n",
       "Name: sentiment, dtype: int64"
      ]
     },
     "execution_count": 217,
     "metadata": {},
     "output_type": "execute_result"
    }
   ],
   "source": [
    "r_text.loc[r_text.review_len > 0, 'sentiment'].value_counts()"
   ]
  },
  {
   "cell_type": "code",
   "execution_count": 218,
   "metadata": {
    "collapsed": true
   },
   "outputs": [],
   "source": [
    "# define independent (review text) and dependent variable (sentiment)\n",
    "X = r_text.content\n",
    "y = r_text.sentiment\n",
    "\n",
    "# create traning and test data \n",
    "X_train, X_test, y_train, y_test = train_test_split(X, y, random_state=10)"
   ]
  },
  {
   "cell_type": "code",
   "execution_count": 219,
   "metadata": {
    "collapsed": true
   },
   "outputs": [],
   "source": [
    "# import and instantiate CountVectorizer (ignore word order, singular/plural, capitals, etc.)\n",
    "# create n-grams for 1, 2 and 3 word pairs (e.g. great, great course, very great course)\n",
    "# remove words that appear 7 or less times\n",
    "from sklearn.feature_extraction.text import CountVectorizer\n",
    "vect = CountVectorizer(ngram_range=(1,3), min_df = 8)"
   ]
  },
  {
   "cell_type": "code",
   "execution_count": 220,
   "metadata": {
    "collapsed": true
   },
   "outputs": [],
   "source": [
    "# learn training data vocabulary, then use it to create a document-term matrix (to avoid empty columns for words in the test-data)\n",
    "vect.fit(X_train)\n",
    "X_train_dtm = vect.transform(X_train)"
   ]
  },
  {
   "cell_type": "code",
   "execution_count": 221,
   "metadata": {},
   "outputs": [
    {
     "data": {
      "text/plain": [
       "<1027x1656 sparse matrix of type '<class 'numpy.int64'>'\n",
       "\twith 20290 stored elements in Compressed Sparse Row format>"
      ]
     },
     "execution_count": 221,
     "metadata": {},
     "output_type": "execute_result"
    }
   ],
   "source": [
    "# transform testing data (using fitted vocabulary)\n",
    "X_test_dtm = vect.transform(X_test)\n",
    "X_test_dtm"
   ]
  },
  {
   "cell_type": "markdown",
   "metadata": {},
   "source": [
    "### Algorithm Argumentation\n",
    "Due to its structure of text a corpus tends to be rather wide (e.g. see the dimensions of the sparse matrix above). That is because even a review description for a specific course can contain a multitude of unique words. Given this structure, a suitable algorithm for this text classification problem is a Multi-Nomial Naive Bayes implementation because of its efficiency (and popularity in text machine learning)."
   ]
  },
  {
   "cell_type": "code",
   "execution_count": 222,
   "metadata": {
    "collapsed": true
   },
   "outputs": [],
   "source": [
    "# import and instantiate a Multinomial Naive Bayes model\n",
    "from sklearn.naive_bayes import MultinomialNB\n",
    "nb = MultinomialNB()"
   ]
  },
  {
   "cell_type": "code",
   "execution_count": 223,
   "metadata": {},
   "outputs": [
    {
     "data": {
      "text/plain": [
       "MultinomialNB(alpha=1.0, class_prior=None, fit_prior=True)"
      ]
     },
     "execution_count": 223,
     "metadata": {},
     "output_type": "execute_result"
    }
   ],
   "source": [
    "# train the model using X_train_dtm\n",
    "nb.fit(X_train_dtm, y_train)"
   ]
  },
  {
   "cell_type": "code",
   "execution_count": 224,
   "metadata": {
    "collapsed": true
   },
   "outputs": [],
   "source": [
    "# make class predictions for X_test_dtm\n",
    "y_pred_class = nb.predict(X_test_dtm)"
   ]
  },
  {
   "cell_type": "markdown",
   "metadata": {},
   "source": [
    "### Evaluation\n",
    "As could be expected beforehand, the accuracy of the model is very high (94.8%) because of the imbalanced class distribution. For the negative reviews the precision and recall scores are 32% $(8/(8+17))$ and 18% $(8/(8+36))$ respectively. In other words, predictions for negative reviews are not very accurate and almost three fourth of all negative reviews is misclassified. It's therefore not surprising that the AUC-score is only moderately better than random guessing (58.2%). \n",
    "\n",
    "In summary, it can be said that the current model doesn't meet the requirements to accurately distinguish between positive and negative reviews. The performance could potentially be improved by collecting more negative review texts and concatenating them to the current `reviews` dataset. Also, excluding very short reviews (i.e. with few characters) which don't provide as much context could lead to a better performing model."
   ]
  },
  {
   "cell_type": "code",
   "execution_count": 225,
   "metadata": {},
   "outputs": [
    {
     "data": {
      "text/plain": [
       "94.839337877312559"
      ]
     },
     "execution_count": 225,
     "metadata": {},
     "output_type": "execute_result"
    }
   ],
   "source": [
    "# calculate the accuracy of class predictions\n",
    "from sklearn import metrics\n",
    "metrics.accuracy_score(y_test, y_pred_class) * 100"
   ]
  },
  {
   "cell_type": "code",
   "execution_count": 226,
   "metadata": {},
   "outputs": [
    {
     "data": {
      "text/plain": [
       "array([[  8,  36],\n",
       "       [ 17, 966]])"
      ]
     },
     "execution_count": 226,
     "metadata": {},
     "output_type": "execute_result"
    }
   ],
   "source": [
    "# print the confusion matrix\n",
    "metrics.confusion_matrix(y_test, y_pred_class)"
   ]
  },
  {
   "cell_type": "code",
   "execution_count": 227,
   "metadata": {},
   "outputs": [
    {
     "data": {
      "text/plain": [
       "58.226209192638493"
      ]
     },
     "execution_count": 227,
     "metadata": {},
     "output_type": "execute_result"
    }
   ],
   "source": [
    "# print the AUC-score\n",
    "metrics.roc_auc_score(y_test, y_pred_class) * 100"
   ]
  },
  {
   "cell_type": "markdown",
   "metadata": {},
   "source": [
    "Thus far, we have been able to get an idea of how well the classifier is able to correctly classify course reviews. With that said, this analysis has stayed at a somewhat abstract level: we still don't know which phrases are associated with either a positive or negative sentiment classification. For more details and concrete examples on that please consult *Appendix D*."
   ]
  },
  {
   "cell_type": "markdown",
   "metadata": {},
   "source": [
    "---"
   ]
  },
  {
   "cell_type": "markdown",
   "metadata": {
    "collapsed": true
   },
   "source": [
    "## 6. Conclusion"
   ]
  },
  {
   "cell_type": "markdown",
   "metadata": {},
   "source": [
    "*This last chapter starts off with a recap of the most important findings in the descriptive and predictive parts of this analysis. This summary is followed by a subsection on the limitations of this study, practical implications for learners, teachers and Udemy and it ends with a couple of suggestions for future research.*\n",
    "\n",
    "---\n",
    "\n",
    "**Descriptive Analysis**\n",
    "\n",
    "*Course Characteristics*\n",
    "* The average course star ratings on Udemy are very close to each other. Although the differences are most times in the decimals it turns out most popular courses have a score of at least 4.1 stars out of 5.\n",
    "\n",
    "* The language and course level don't have any significant effect on the number of enrolments, but the presence of custom English captions does.  \n",
    "\n",
    "* The course characteristic \"best-seller\" is determined based on a variety of factors which don't have any one-on-one relationship with the number of students enrolled (`num_rating`, `total_student`), namely free courses (+92.4) that are taught by multiple instructors (+92.4%/instructor) have a remarkably higher probability to be assigned the best-seller label. \n",
    "\n",
    "* Factors that have relatively much effect on the student count are: `top_responder` (+2032 students), `paid_course` (-4224 students) and `english_captions` (+3492 students). \n",
    "\n",
    "* For paid courses it is not as much about the current course price, as it is about the discount students get compared to the original course price. \n",
    "\n",
    "* Most free courses contain relatively few hours of video (<2-3 hours) and the number of students enrolled is remarkably higher than for paid courses.\n",
    "\n",
    "<br>\n",
    "*Teacher*\n",
    "* Teachers who have published one or more free courses (5%) typically offer paid courses as well in the ratio 3:7 (free courses / paid courses).\n",
    "\n",
    "* More experienced teachers, those who have published multiple courses, generally have a higher average star rating and their courses attract more students. The presence of a bidirectional relationship should be noted here though. For example, there may be a bias because teachers who get a lot of positive reviews and a high student count are more likely to release new courses because they are motivated by students' feedback as well as the financial incentives at stake. *Appendix B* shows that there is indeed a positive relationship between the total number of students enrolled and the total number of courses (p<0.001). \n",
    "\n",
    "<br>\n",
    "*Course Reviews*\n",
    "* Students who give a negative course review are up to 2.5X as likely to express their discontent in words. Their reviews also tend to be significantly longer than fellow students who evaluated the course positively."
   ]
  },
  {
   "cell_type": "markdown",
   "metadata": {},
   "source": [
    "**Predictive Analysis**\n",
    "\n",
    "*Average course rating*\n",
    "* Because of the relatively small differences in the average course rating, building an accurate prediction model turned out to be a challenging task. Nonetheless, we have been able to achieve an accuracy of 55.4% on the test set which is 25.7 percentage points above the model's baseline performance. \n",
    "\n",
    "* Significant positive predictors for the average course rating are: \n",
    "    - `total_reviews` (+) / `reviews_other_courses` (+) / `total_students` (+) - which are all somehow related to the number of students enrolled. In this regard courses with a high number of students enrolled typically have a higher average course  rating.\n",
    "    - `avg_prior_rating` (+) - a teacher's course rating for previous courses is representative for upcoming courses.\n",
    "\n",
    "<br>\n",
    "*Best-seller*\n",
    "\n",
    "In the first instance this classification problem seemed fairly straightforward: a very strong relationship was expected between the number of students enrolled and the best-seller label. It turns out this was not as obvious, in fact the tuned model is only capable of identifying one third of all best-seller courses (recall=0.33). Hence, it's no surprise that the AUC-score is only 16% higher than the baseline model. \n",
    "\n",
    "<br>\n",
    "*Positive / Negative review*\n",
    "\n",
    "Given the skewed course review dataset, it seems to be very difficult to correctly classify a course review as either positive or negative (AUC=0.58). This score may even deteriorate when neutral ratings (2.5-3.5 stars) are included in the analysis. \n",
    "\n",
    "<hr>"
   ]
  },
  {
   "cell_type": "markdown",
   "metadata": {},
   "source": [
    "** Limitations ** <br>\n",
    "First, it is doubtful whether the data in the `avg_star_rating` column is correct. See *Appendix C* for an example that demonstrates that the scraped values may not be equal to the mean of the average course review for each course by a teacher. \n",
    "Second, in this analysis it is argued that the course price is €10 for almost every course. In reality price differentiation is applied on Udemy: based on external factors such as past search and click behaviour, whether a student is currently signed in with his Udemy account or uses the browser incognito-mode can greatly affect the course pricing. Because of the set-up of the scraper these differences aren't noticeable in the collected dataset however.\n",
    "Third, a higher value for `students_enrolled` has been interpreted as a better value. However, this number alone does not always say as much about the course quality, especially for free courses because there is no cost associated with enrolling in such a course. Additional data on learners' engagement statistics (e.g. what percentage of the lectures has been watched, how many quiz questions are answered correctly) can therefore add to a more complete and holistic picture of the quality of the course. \n",
    "Fourth, above conclusions should be regarded as rules of thumb that hold for an \"average\" student. Yet, Udemy has presumably got a much richer data at hand due to logging students activities on the platform. This allows for personal, rather than general, course recommendations. \n",
    "\n",
    "<br>\n",
    "** Practical Implications **<br>\n",
    "The implications of the results are discussed for the following three types of stakeholders: (1) students, (2) teachers and online learning marketplaces (e.g. Udemy) (3). First, potential students should realize that the average star rating on Udemy has a very high baseline: for students an average course rating of 4.0 might come across as a sign of high quality while it actually belongs to the 25% lowest ratings in the Data & Analytics category. Also, they should not take the label \"best-seller\" too literally since it's exact definition is still somewhat unclear. Second, teachers can potentially increase their customer base - and revenue - by offering a short free course in which they upsell the complete paid course. Furthermore, it's recommended to include custom English captions and choose for a high original course price. Lastly, if the top-responder label is reintroduced on Udemy instructors should realize that it can build up trust among interested learners. This reinforces the notion that it's important to actively answer questions on the course forum. Third and last, online market places can communicate these strategies and tactics to course instructors; after all Udemy's financial success is largely dependent on the teacher's success. Additionally, the results allow Udemy to optimize its search algorithm and UI/UX of both the website and mobile apps such that courses are displayed which are most likely to attract a lot of students and thus maximize total sales. On the other hand, they should consider keeping all teachers satisfied by creating a level playing field (or at least to a certain extent).\n",
    "\n",
    "\n",
    "<br>\n",
    "** Future Research **<br>\n",
    "The scope and especially its boundaries as defined in section 1.2 indirectly refer to possibilities for further research. This notebook showed that static - directly scrapeable - features alone are somewhat limited in reaching a high performance using typical machine learning algorithms. Meanwhile, the advancements in deep learning allow for more advanced analysis of for example the promotional course video and course thumbnail. Particularly, the video lectures deserve further attention since that is what MOOCs are all about in the end. Related questions such as, which video characteristics (e.g. teaching style, slides, speaking pace, lecture length) are associated with a high completion rate, what topics are likely to cause a lot of questions on the course forum, etc. can be worthwhile to all stakeholders involved. It could eventually lead to personalized learning recommendations based on previous study behaviours and course reviews: what online courses fit my prior knowledge and learning style(s)? \n",
    "\n",
    "This is expected to be a critical challenge in the years to come as the number of online courses continues to keep growing exponentially. In all likelihood the problem will not be on the supply side, it will come down to intelligently bringing together supply and demand. In this respect, *Data Science* in particular has a crucial role to play."
   ]
  },
  {
   "cell_type": "markdown",
   "metadata": {},
   "source": [
    "---"
   ]
  },
  {
   "cell_type": "markdown",
   "metadata": {},
   "source": [
    "## References"
   ]
  },
  {
   "cell_type": "markdown",
   "metadata": {},
   "source": [
    "Causon, J. (2015). Customer complaints made via social media on the rise. Retrieved from: https://www.theguardian.com/media-network/2015/may/21/customer-complaints-social-media-rise\n",
    "\n",
    "Li, H. (2017). Which machine learning algorithm should I use? Retrieved from: https://blogs.sas.com/content/subconsciousmusings/2017/04/12/machine-learning-algorithm-use/#prettyPhoto\n",
    "\n",
    "SuperDataScience. (2017). Classification-Pros-Cons.pdf. Retieved from: https://www.superdatascience.com/wp-content/uploads/2017/02/Classification-Pros-Cons.pdf\n",
    "\n",
    "Witkin, P. (2016). 2016 Learning Trend on Udemy. Retrieved from: https://about.udemy.com/instructors/2016-learning-trends-on-udemy/\n",
    "\n",
    "\n"
   ]
  },
  {
   "cell_type": "markdown",
   "metadata": {},
   "source": [
    "---"
   ]
  },
  {
   "cell_type": "markdown",
   "metadata": {},
   "source": [
    "## Appendix A - Feature Definitions\n",
    "<a name=\"appendix-a\"></a>\n",
    "\n",
    "**Categorical Features**\n",
    "\n",
    "| Feature | Categories | Definition / Comment | \n",
    "| :------- | :----------- | :-------- | \n",
    "| `course_level` | {Beginnner Level, Intermediate Level, Expert Level, All Levels } | Indication of the difficulty of the course  |\n",
    "| `paid_course` | {True, False} | Whether a course is paid or free. |\n",
    "| `best_seller` | {True, False} | Whether the course has been classified as a best-seller (by Udemy). |\n",
    "| `top_responder` | {True, False} | Whether the teacher/instructor has been classified as a top-responder by Udemy (i.e. very active on the course forum). |\n",
    "| `english_captions` | {True, False} | Whether custom English captions are included for the video lectures.| \n",
    "\n",
    "<br>\n",
    "**Numerical Features**\n",
    "\n",
    "| Feature | Mean | Range | Definition / Comment | \n",
    "| :------- | :----------- | :----------- |  :----------- |\n",
    "| `time_since_last_update` | 367 | 9 - 2019 | The number of days between the 10th of November and the last time the course has been updated. |\n",
    "| `original_price` | 89.28 | 0-200 | The original course price in euros. | \n",
    "| `current_price` | 11.93 | 0-200 | The current course price (usually there is a huge discount) in euros. |\n",
    "| `discount` | 77.35 | 0 - 190 | The difference between the original and current price. |\n",
    "| `hours_video` | 4.92 | 0-40.5 | The total number of hours of video in the course. |\n",
    "| `num_articles` | 2.7 | 0-58 | The number of articles included in the course. |\n",
    "| `num_lectures` | 46.8 | 0-276 | The number of lectures in the course. |\n",
    "| `supplemental_resources` | 4.2 | 0-118 | The number of supplemental resources included in the course (e.g. PowerPoints, cheatsheets, etc.). |\n",
    "| `avg_star_rating` | 4.1 | 0.0-5.0 | The teacher's average star-rating across all courses. |\n",
    "| `avg_prior_rating` | 4.2 | 0.0-**5.1** | The teacher's average star-rating across all courses excluding the current one. For teachers which have published only one course, the mean value of the `average_prior_rating` will be taken. |\n",
    "| `rating_complete` | 4.0 | 0.0-5.0 | The teacher's average star-rating for Data & Analytics courses part of the dataset. |\n",
    "| `total_coures` | 42.3 | 1.0 - 748 | The teacher's average star-rating across all courses. |\n",
    "| `num_instructors` | 1.1 | 1 - 4 | The total number of teachers/instructors involved in the course (according to the course description). |\n",
    "| `total_students` | 33511 | 0 - 769751 | The total number of students enrolled in all  courses of a teacher. |\n",
    "| `students_other_courses` | 36255 | 0 - 769228 | The total number of students enrolled in other other courses . For teachers which have published only one course, the mean value of the `students_other_courses` will be taken. |\n",
    "| `reviews_other_courses` | 36255 | 0 - 769228 | The total number of reviews in other other courses. For teachers which have published only one course, the mean value of the `reviews_other_courses` will be taken. |\n",
    "\n",
    "\n",
    "<br>\n",
    "**Text Features** <br>\n",
    "It has been attempted to find any predictive value in the course `description` and `course_name`. For example, to find any common themes/topics within the Data & Analytics category that are very popular and thus cause a high student count (e.g. \"deep learning\"). Such general relationships have not been established however which explains why they have not been included in this notebook. With that said other text features, the course reviews, have been comprehensively examined.\n",
    "\n",
    "| Feature | Definition / Comment | \n",
    "| :------- | :----------------------------------------------------------------------------------------- | \n",
    "| `course_name` | The name of a course |\n",
    "| `audience` | The target audience for the course as specified by the teacher. |\n",
    "| `description` |  A course description that typically covers the topics discussed in the course. |\n",
    "| `requirements` | An overview of prior knowledge that is necessary to start the course and / or is expected as specified by the teacher (e.g. Python, Hypotheses Testing) |\n",
    "| `what_will_i_learn` | The learning objectives: what students will learn in the course. |"
   ]
  },
  {
   "cell_type": "markdown",
   "metadata": {},
   "source": [
    "---"
   ]
  },
  {
   "cell_type": "markdown",
   "metadata": {
    "collapsed": true
   },
   "source": [
    "## Appendix B - Bidirectional relationship `total_courses`"
   ]
  },
  {
   "cell_type": "code",
   "execution_count": 228,
   "metadata": {},
   "outputs": [
    {
     "name": "stdout",
     "output_type": "stream",
     "text": [
      "                            OLS Regression Results                            \n",
      "==============================================================================\n",
      "Dep. Variable:          total_courses   R-squared:                       0.447\n",
      "Model:                            OLS   Adj. R-squared:                  0.441\n",
      "Method:                 Least Squares   F-statistic:                     80.98\n",
      "Date:                Tue, 05 Dec 2017   Prob (F-statistic):           1.97e-38\n",
      "Time:                        23:47:47   Log-Likelihood:                -873.39\n",
      "No. Observations:                 305   AIC:                             1755.\n",
      "Df Residuals:                     301   BIC:                             1770.\n",
      "Df Model:                           3                                         \n",
      "Covariance Type:            nonrobust                                         \n",
      "===================================================================================\n",
      "                      coef    std err          t      P>|t|      [95.0% Conf. Int.]\n",
      "-----------------------------------------------------------------------------------\n",
      "const               2.4741      3.050      0.811      0.418        -3.527     8.476\n",
      "total_students      0.0002   1.99e-05     11.579      0.000         0.000     0.000\n",
      "total_reviews      -0.0007   9.24e-05     -8.102      0.000        -0.001    -0.001\n",
      "avg_star_rating     0.6007      0.734      0.818      0.414        -0.844     2.045\n",
      "==============================================================================\n",
      "Omnibus:                        6.004   Durbin-Watson:                   1.980\n",
      "Prob(Omnibus):                  0.050   Jarque-Bera (JB):                7.028\n",
      "Skew:                          -0.190   Prob(JB):                       0.0298\n",
      "Kurtosis:                       3.639   Cond. No.                     6.15e+05\n",
      "==============================================================================\n",
      "\n",
      "Warnings:\n",
      "[1] Standard Errors assume that the covariance matrix of the errors is correctly specified.\n",
      "[2] The condition number is large, 6.15e+05. This might indicate that there are\n",
      "strong multicollinearity or other numerical problems.\n"
     ]
    }
   ],
   "source": [
    "X = mlr.loc[(mlr.total_courses < 20) & (mlr.students_enrolled < 20000) & (mlr.total_reviews > 20), ['total_students', 'total_reviews', 'avg_star_rating' ]]\n",
    "y = mlr.loc[(mlr.total_courses < 20) & (mlr.students_enrolled < 20000) & (mlr.total_reviews > 20), 'total_courses']\n",
    "\n",
    "X2 = sm.add_constant(X)\n",
    "est = sm.OLS(y, X2.astype(float))\n",
    "est2 = est.fit()\n",
    "print(est2.summary())"
   ]
  },
  {
   "cell_type": "markdown",
   "metadata": {},
   "source": [
    "---"
   ]
  },
  {
   "cell_type": "markdown",
   "metadata": {},
   "source": [
    "## Appendix C - Average Star Rating"
   ]
  },
  {
   "cell_type": "markdown",
   "metadata": {},
   "source": [
    "Remarkably, there is one course of which the `avg_prior_rating` according to our aforementioned definition exceeds `5.0` stars (5.1 stars). It turns out in some cases Udemy doesn't use a weighted average to calculate the `avg_star_rating`. For instance, see the screenshot below which illustrates that the `avg_star_rating` (across all courses) is `4.4` according the course page which is higher than the average course review for both courses taught by Michael McDonald.\n",
    "\n",
    "<img src=\"Separate_Ratings.png\" width=500px align='left'>\n",
    "<img src=\"Average_Rating.png\" width=500px align='left'>"
   ]
  },
  {
   "cell_type": "markdown",
   "metadata": {},
   "source": [
    "---"
   ]
  },
  {
   "cell_type": "markdown",
   "metadata": {},
   "source": [
    "## Appendix D - Text Analysis (Course Reviews)"
   ]
  },
  {
   "cell_type": "markdown",
   "metadata": {},
   "source": [
    "In line with the principles behind the *Naive Bayes algorithm*, this Appendix illustrates its working by providing examples of words that are related to either positive or negative course ratings. After each arithmetic operation, a data sample is shown to clarify the effect of that operation."
   ]
  },
  {
   "cell_type": "code",
   "execution_count": 229,
   "metadata": {},
   "outputs": [
    {
     "data": {
      "text/html": [
       "<div>\n",
       "<table border=\"1\" class=\"dataframe\">\n",
       "  <thead>\n",
       "    <tr style=\"text-align: right;\">\n",
       "      <th></th>\n",
       "      <th>neg</th>\n",
       "      <th>pos</th>\n",
       "    </tr>\n",
       "    <tr>\n",
       "      <th>token</th>\n",
       "      <th></th>\n",
       "      <th></th>\n",
       "    </tr>\n",
       "  </thead>\n",
       "  <tbody>\n",
       "    <tr>\n",
       "      <th>beginners</th>\n",
       "      <td>1.0</td>\n",
       "      <td>53.0</td>\n",
       "    </tr>\n",
       "    <tr>\n",
       "      <th>exactly what</th>\n",
       "      <td>0.0</td>\n",
       "      <td>11.0</td>\n",
       "    </tr>\n",
       "    <tr>\n",
       "      <th>presentation</th>\n",
       "      <td>0.0</td>\n",
       "      <td>20.0</td>\n",
       "    </tr>\n",
       "    <tr>\n",
       "      <th>for the</th>\n",
       "      <td>6.0</td>\n",
       "      <td>68.0</td>\n",
       "    </tr>\n",
       "    <tr>\n",
       "      <th>half</th>\n",
       "      <td>2.0</td>\n",
       "      <td>8.0</td>\n",
       "    </tr>\n",
       "  </tbody>\n",
       "</table>\n",
       "</div>"
      ],
      "text/plain": [
       "              neg   pos\n",
       "token                  \n",
       "beginners     1.0  53.0\n",
       "exactly what  0.0  11.0\n",
       "presentation  0.0  20.0\n",
       "for the       6.0  68.0\n",
       "half          2.0   8.0"
      ]
     },
     "execution_count": 229,
     "metadata": {},
     "output_type": "execute_result"
    }
   ],
   "source": [
    "# count token frequencies in positive and negative reviews and create dataframe\n",
    "X_train_tokens = vect.get_feature_names()\n",
    "neg_token_count = nb.feature_count_[0, :]\n",
    "pos_token_count = nb.feature_count_[1, :]\n",
    "\n",
    "tokens = pd.DataFrame({'token': X_train_tokens, 'neg': neg_token_count, 'pos': pos_token_count}).set_index('token') \n",
    "\n",
    "tokens.sample(5, random_state=5)"
   ]
  },
  {
   "cell_type": "code",
   "execution_count": 230,
   "metadata": {},
   "outputs": [
    {
     "data": {
      "text/html": [
       "<div>\n",
       "<table border=\"1\" class=\"dataframe\">\n",
       "  <thead>\n",
       "    <tr style=\"text-align: right;\">\n",
       "      <th></th>\n",
       "      <th>neg</th>\n",
       "      <th>pos</th>\n",
       "    </tr>\n",
       "    <tr>\n",
       "      <th>token</th>\n",
       "      <th></th>\n",
       "      <th></th>\n",
       "    </tr>\n",
       "  </thead>\n",
       "  <tbody>\n",
       "    <tr>\n",
       "      <th>beginners</th>\n",
       "      <td>2.0</td>\n",
       "      <td>54.0</td>\n",
       "    </tr>\n",
       "    <tr>\n",
       "      <th>exactly what</th>\n",
       "      <td>1.0</td>\n",
       "      <td>12.0</td>\n",
       "    </tr>\n",
       "    <tr>\n",
       "      <th>presentation</th>\n",
       "      <td>1.0</td>\n",
       "      <td>21.0</td>\n",
       "    </tr>\n",
       "    <tr>\n",
       "      <th>for the</th>\n",
       "      <td>7.0</td>\n",
       "      <td>69.0</td>\n",
       "    </tr>\n",
       "    <tr>\n",
       "      <th>half</th>\n",
       "      <td>3.0</td>\n",
       "      <td>9.0</td>\n",
       "    </tr>\n",
       "  </tbody>\n",
       "</table>\n",
       "</div>"
      ],
      "text/plain": [
       "              neg   pos\n",
       "token                  \n",
       "beginners     2.0  54.0\n",
       "exactly what  1.0  12.0\n",
       "presentation  1.0  21.0\n",
       "for the       7.0  69.0\n",
       "half          3.0   9.0"
      ]
     },
     "execution_count": 230,
     "metadata": {},
     "output_type": "execute_result"
    }
   ],
   "source": [
    "# add 1 to positive and negative counts to avoid dividing by 0 when calculating the ratio\n",
    "tokens['neg'] = tokens.neg + 1\n",
    "tokens['pos'] = tokens.pos + 1\n",
    "tokens.sample(5, random_state=5)"
   ]
  },
  {
   "cell_type": "code",
   "execution_count": 231,
   "metadata": {},
   "outputs": [
    {
     "data": {
      "text/html": [
       "<div>\n",
       "<table border=\"1\" class=\"dataframe\">\n",
       "  <thead>\n",
       "    <tr style=\"text-align: right;\">\n",
       "      <th></th>\n",
       "      <th>neg</th>\n",
       "      <th>pos</th>\n",
       "    </tr>\n",
       "    <tr>\n",
       "      <th>token</th>\n",
       "      <th></th>\n",
       "      <th></th>\n",
       "    </tr>\n",
       "  </thead>\n",
       "  <tbody>\n",
       "    <tr>\n",
       "      <th>beginners</th>\n",
       "      <td>0.017391</td>\n",
       "      <td>0.018206</td>\n",
       "    </tr>\n",
       "    <tr>\n",
       "      <th>exactly what</th>\n",
       "      <td>0.008696</td>\n",
       "      <td>0.004046</td>\n",
       "    </tr>\n",
       "    <tr>\n",
       "      <th>presentation</th>\n",
       "      <td>0.008696</td>\n",
       "      <td>0.007080</td>\n",
       "    </tr>\n",
       "    <tr>\n",
       "      <th>for the</th>\n",
       "      <td>0.060870</td>\n",
       "      <td>0.023264</td>\n",
       "    </tr>\n",
       "    <tr>\n",
       "      <th>half</th>\n",
       "      <td>0.026087</td>\n",
       "      <td>0.003034</td>\n",
       "    </tr>\n",
       "  </tbody>\n",
       "</table>\n",
       "</div>"
      ],
      "text/plain": [
       "                   neg       pos\n",
       "token                           \n",
       "beginners     0.017391  0.018206\n",
       "exactly what  0.008696  0.004046\n",
       "presentation  0.008696  0.007080\n",
       "for the       0.060870  0.023264\n",
       "half          0.026087  0.003034"
      ]
     },
     "execution_count": 231,
     "metadata": {},
     "output_type": "execute_result"
    }
   ],
   "source": [
    "# convert absolute count to relative count (both columns add up to 1)\n",
    "tokens['neg'] = tokens.neg / nb.class_count_[0]\n",
    "tokens['pos'] = tokens.pos / nb.class_count_[1]\n",
    "tokens.sample(5, random_state=5)"
   ]
  },
  {
   "cell_type": "code",
   "execution_count": 232,
   "metadata": {},
   "outputs": [
    {
     "data": {
      "text/html": [
       "<div>\n",
       "<table border=\"1\" class=\"dataframe\">\n",
       "  <thead>\n",
       "    <tr style=\"text-align: right;\">\n",
       "      <th></th>\n",
       "      <th>neg</th>\n",
       "      <th>pos</th>\n",
       "      <th>pos_neg_ratio</th>\n",
       "    </tr>\n",
       "    <tr>\n",
       "      <th>token</th>\n",
       "      <th></th>\n",
       "      <th></th>\n",
       "      <th></th>\n",
       "    </tr>\n",
       "  </thead>\n",
       "  <tbody>\n",
       "    <tr>\n",
       "      <th>beginners</th>\n",
       "      <td>0.017391</td>\n",
       "      <td>0.018206</td>\n",
       "      <td>1.046864</td>\n",
       "    </tr>\n",
       "    <tr>\n",
       "      <th>exactly what</th>\n",
       "      <td>0.008696</td>\n",
       "      <td>0.004046</td>\n",
       "      <td>0.465273</td>\n",
       "    </tr>\n",
       "    <tr>\n",
       "      <th>presentation</th>\n",
       "      <td>0.008696</td>\n",
       "      <td>0.007080</td>\n",
       "      <td>0.814228</td>\n",
       "    </tr>\n",
       "    <tr>\n",
       "      <th>for the</th>\n",
       "      <td>0.060870</td>\n",
       "      <td>0.023264</td>\n",
       "      <td>0.382189</td>\n",
       "    </tr>\n",
       "    <tr>\n",
       "      <th>half</th>\n",
       "      <td>0.026087</td>\n",
       "      <td>0.003034</td>\n",
       "      <td>0.116318</td>\n",
       "    </tr>\n",
       "  </tbody>\n",
       "</table>\n",
       "</div>"
      ],
      "text/plain": [
       "                   neg       pos  pos_neg_ratio\n",
       "token                                          \n",
       "beginners     0.017391  0.018206       1.046864\n",
       "exactly what  0.008696  0.004046       0.465273\n",
       "presentation  0.008696  0.007080       0.814228\n",
       "for the       0.060870  0.023264       0.382189\n",
       "half          0.026087  0.003034       0.116318"
      ]
     },
     "execution_count": 232,
     "metadata": {},
     "output_type": "execute_result"
    }
   ],
   "source": [
    "# determine whether a word is more common in positive or negative reviews by calculating the ratio of the relative frequencies\n",
    "tokens['pos_neg_ratio'] = tokens.pos / tokens.neg\n",
    "tokens.sample(5, random_state=5)"
   ]
  },
  {
   "cell_type": "markdown",
   "metadata": {},
   "source": [
    "A note on interpretation, a `pos_neg_ratio` of 1.0 indicates that a word (or phrase) is as common in positive as in negative reviews. Likewise, a ratio of >1 means that word is more common in positive reviews (and for negative reviews: `0 < pos_neg_ratio < 1`)"
   ]
  },
  {
   "cell_type": "markdown",
   "metadata": {},
   "source": [
    "### Words related to a positive review\n",
    "Below follows a list of the top 50 phrases that are most associated with a positive review. Some examples: satisfied students in this specific course say that it is `\"easy to follow\"`, `\"easy to understand\"`, `\"very clear\"`, has a `\"step by step approach\"`, have a (good?) `\"pace\"`, is `\"understandable\"` for `\"beginners\"` and they `\"recommended to others\"`."
   ]
  },
  {
   "cell_type": "code",
   "execution_count": 233,
   "metadata": {},
   "outputs": [
    {
     "data": {
      "text/html": [
       "<div>\n",
       "<table border=\"1\" class=\"dataframe\">\n",
       "  <thead>\n",
       "    <tr style=\"text-align: right;\">\n",
       "      <th></th>\n",
       "      <th>neg</th>\n",
       "      <th>pos</th>\n",
       "      <th>pos_neg_ratio</th>\n",
       "    </tr>\n",
       "    <tr>\n",
       "      <th>token</th>\n",
       "      <th></th>\n",
       "      <th></th>\n",
       "      <th></th>\n",
       "    </tr>\n",
       "  </thead>\n",
       "  <tbody>\n",
       "    <tr>\n",
       "      <th>easy to</th>\n",
       "      <td>0.008696</td>\n",
       "      <td>0.092717</td>\n",
       "      <td>10.662508</td>\n",
       "    </tr>\n",
       "    <tr>\n",
       "      <th>really</th>\n",
       "      <td>0.008696</td>\n",
       "      <td>0.088334</td>\n",
       "      <td>10.158463</td>\n",
       "    </tr>\n",
       "    <tr>\n",
       "      <th>explained</th>\n",
       "      <td>0.008696</td>\n",
       "      <td>0.065071</td>\n",
       "      <td>7.483142</td>\n",
       "    </tr>\n",
       "    <tr>\n",
       "      <th>excellent</th>\n",
       "      <td>0.008696</td>\n",
       "      <td>0.055293</td>\n",
       "      <td>6.358732</td>\n",
       "    </tr>\n",
       "    <tr>\n",
       "      <th>very good</th>\n",
       "      <td>0.008696</td>\n",
       "      <td>0.053608</td>\n",
       "      <td>6.164869</td>\n",
       "    </tr>\n",
       "    <tr>\n",
       "      <th>great</th>\n",
       "      <td>0.026087</td>\n",
       "      <td>0.131827</td>\n",
       "      <td>5.053383</td>\n",
       "    </tr>\n",
       "    <tr>\n",
       "      <th>easy to follow</th>\n",
       "      <td>0.008696</td>\n",
       "      <td>0.039784</td>\n",
       "      <td>4.575185</td>\n",
       "    </tr>\n",
       "    <tr>\n",
       "      <th>easy to understand</th>\n",
       "      <td>0.008696</td>\n",
       "      <td>0.039447</td>\n",
       "      <td>4.536413</td>\n",
       "    </tr>\n",
       "    <tr>\n",
       "      <th>very clear</th>\n",
       "      <td>0.008696</td>\n",
       "      <td>0.035064</td>\n",
       "      <td>4.032367</td>\n",
       "    </tr>\n",
       "    <tr>\n",
       "      <th>good</th>\n",
       "      <td>0.060870</td>\n",
       "      <td>0.241403</td>\n",
       "      <td>3.965899</td>\n",
       "    </tr>\n",
       "    <tr>\n",
       "      <th>awesome</th>\n",
       "      <td>0.008696</td>\n",
       "      <td>0.033715</td>\n",
       "      <td>3.877276</td>\n",
       "    </tr>\n",
       "    <tr>\n",
       "      <th>clear</th>\n",
       "      <td>0.026087</td>\n",
       "      <td>0.100809</td>\n",
       "      <td>3.864352</td>\n",
       "    </tr>\n",
       "    <tr>\n",
       "      <th>great course</th>\n",
       "      <td>0.008696</td>\n",
       "      <td>0.031693</td>\n",
       "      <td>3.644639</td>\n",
       "    </tr>\n",
       "    <tr>\n",
       "      <th>interesting</th>\n",
       "      <td>0.008696</td>\n",
       "      <td>0.031018</td>\n",
       "      <td>3.567094</td>\n",
       "    </tr>\n",
       "    <tr>\n",
       "      <th>easy</th>\n",
       "      <td>0.034783</td>\n",
       "      <td>0.115644</td>\n",
       "      <td>3.324764</td>\n",
       "    </tr>\n",
       "    <tr>\n",
       "      <th>courses</th>\n",
       "      <td>0.008696</td>\n",
       "      <td>0.027647</td>\n",
       "      <td>3.179366</td>\n",
       "    </tr>\n",
       "    <tr>\n",
       "      <th>amazing</th>\n",
       "      <td>0.008696</td>\n",
       "      <td>0.027310</td>\n",
       "      <td>3.140593</td>\n",
       "    </tr>\n",
       "    <tr>\n",
       "      <th>everything</th>\n",
       "      <td>0.008696</td>\n",
       "      <td>0.027310</td>\n",
       "      <td>3.140593</td>\n",
       "    </tr>\n",
       "    <tr>\n",
       "      <th>and easy</th>\n",
       "      <td>0.008696</td>\n",
       "      <td>0.023264</td>\n",
       "      <td>2.675320</td>\n",
       "    </tr>\n",
       "    <tr>\n",
       "      <th>good course</th>\n",
       "      <td>0.008696</td>\n",
       "      <td>0.022927</td>\n",
       "      <td>2.636548</td>\n",
       "    </tr>\n",
       "    <tr>\n",
       "      <th>pace</th>\n",
       "      <td>0.008696</td>\n",
       "      <td>0.022589</td>\n",
       "      <td>2.597775</td>\n",
       "    </tr>\n",
       "    <tr>\n",
       "      <th>thank</th>\n",
       "      <td>0.008696</td>\n",
       "      <td>0.022252</td>\n",
       "      <td>2.559002</td>\n",
       "    </tr>\n",
       "    <tr>\n",
       "      <th>well explained</th>\n",
       "      <td>0.008696</td>\n",
       "      <td>0.022252</td>\n",
       "      <td>2.559002</td>\n",
       "    </tr>\n",
       "    <tr>\n",
       "      <th>teaching</th>\n",
       "      <td>0.008696</td>\n",
       "      <td>0.021915</td>\n",
       "      <td>2.520229</td>\n",
       "    </tr>\n",
       "    <tr>\n",
       "      <th>love</th>\n",
       "      <td>0.008696</td>\n",
       "      <td>0.021578</td>\n",
       "      <td>2.481457</td>\n",
       "    </tr>\n",
       "    <tr>\n",
       "      <th>hands</th>\n",
       "      <td>0.008696</td>\n",
       "      <td>0.021241</td>\n",
       "      <td>2.442684</td>\n",
       "    </tr>\n",
       "    <tr>\n",
       "      <th>forward</th>\n",
       "      <td>0.008696</td>\n",
       "      <td>0.020904</td>\n",
       "      <td>2.403911</td>\n",
       "    </tr>\n",
       "    <tr>\n",
       "      <th>practical</th>\n",
       "      <td>0.017391</td>\n",
       "      <td>0.041470</td>\n",
       "      <td>2.384525</td>\n",
       "    </tr>\n",
       "    <tr>\n",
       "      <th>concise</th>\n",
       "      <td>0.008696</td>\n",
       "      <td>0.020566</td>\n",
       "      <td>2.365138</td>\n",
       "    </tr>\n",
       "    <tr>\n",
       "      <th>hands on</th>\n",
       "      <td>0.008696</td>\n",
       "      <td>0.020229</td>\n",
       "      <td>2.326365</td>\n",
       "    </tr>\n",
       "    <tr>\n",
       "      <th>thank you</th>\n",
       "      <td>0.008696</td>\n",
       "      <td>0.019892</td>\n",
       "      <td>2.287593</td>\n",
       "    </tr>\n",
       "    <tr>\n",
       "      <th>and easy to</th>\n",
       "      <td>0.008696</td>\n",
       "      <td>0.019218</td>\n",
       "      <td>2.210047</td>\n",
       "    </tr>\n",
       "    <tr>\n",
       "      <th>hadelin</th>\n",
       "      <td>0.008696</td>\n",
       "      <td>0.018543</td>\n",
       "      <td>2.132502</td>\n",
       "    </tr>\n",
       "    <tr>\n",
       "      <th>with the</th>\n",
       "      <td>0.008696</td>\n",
       "      <td>0.018543</td>\n",
       "      <td>2.132502</td>\n",
       "    </tr>\n",
       "    <tr>\n",
       "      <th>course and</th>\n",
       "      <td>0.008696</td>\n",
       "      <td>0.018206</td>\n",
       "      <td>2.093729</td>\n",
       "    </tr>\n",
       "    <tr>\n",
       "      <th>follow</th>\n",
       "      <td>0.026087</td>\n",
       "      <td>0.054282</td>\n",
       "      <td>2.080805</td>\n",
       "    </tr>\n",
       "    <tr>\n",
       "      <th>course to</th>\n",
       "      <td>0.008696</td>\n",
       "      <td>0.017869</td>\n",
       "      <td>2.054956</td>\n",
       "    </tr>\n",
       "    <tr>\n",
       "      <th>the way</th>\n",
       "      <td>0.008696</td>\n",
       "      <td>0.017869</td>\n",
       "      <td>2.054956</td>\n",
       "    </tr>\n",
       "    <tr>\n",
       "      <th>step</th>\n",
       "      <td>0.026087</td>\n",
       "      <td>0.052596</td>\n",
       "      <td>2.016183</td>\n",
       "    </tr>\n",
       "    <tr>\n",
       "      <th>job</th>\n",
       "      <td>0.008696</td>\n",
       "      <td>0.017532</td>\n",
       "      <td>2.016183</td>\n",
       "    </tr>\n",
       "    <tr>\n",
       "      <th>are very</th>\n",
       "      <td>0.008696</td>\n",
       "      <td>0.017195</td>\n",
       "      <td>1.977411</td>\n",
       "    </tr>\n",
       "    <tr>\n",
       "      <th>best</th>\n",
       "      <td>0.017391</td>\n",
       "      <td>0.033715</td>\n",
       "      <td>1.938638</td>\n",
       "    </tr>\n",
       "    <tr>\n",
       "      <th>nice</th>\n",
       "      <td>0.017391</td>\n",
       "      <td>0.032704</td>\n",
       "      <td>1.880479</td>\n",
       "    </tr>\n",
       "    <tr>\n",
       "      <th>like the</th>\n",
       "      <td>0.008696</td>\n",
       "      <td>0.016183</td>\n",
       "      <td>1.861092</td>\n",
       "    </tr>\n",
       "    <tr>\n",
       "      <th>to follow</th>\n",
       "      <td>0.026087</td>\n",
       "      <td>0.048213</td>\n",
       "      <td>1.848168</td>\n",
       "    </tr>\n",
       "    <tr>\n",
       "      <th>excellent course</th>\n",
       "      <td>0.008696</td>\n",
       "      <td>0.015846</td>\n",
       "      <td>1.822320</td>\n",
       "    </tr>\n",
       "    <tr>\n",
       "      <th>course for</th>\n",
       "      <td>0.008696</td>\n",
       "      <td>0.015846</td>\n",
       "      <td>1.822320</td>\n",
       "    </tr>\n",
       "    <tr>\n",
       "      <th>very</th>\n",
       "      <td>0.156522</td>\n",
       "      <td>0.281861</td>\n",
       "      <td>1.800779</td>\n",
       "    </tr>\n",
       "    <tr>\n",
       "      <th>detail</th>\n",
       "      <td>0.008696</td>\n",
       "      <td>0.015509</td>\n",
       "      <td>1.783547</td>\n",
       "    </tr>\n",
       "    <tr>\n",
       "      <th>informative</th>\n",
       "      <td>0.008696</td>\n",
       "      <td>0.015509</td>\n",
       "      <td>1.783547</td>\n",
       "    </tr>\n",
       "  </tbody>\n",
       "</table>\n",
       "</div>"
      ],
      "text/plain": [
       "                         neg       pos  pos_neg_ratio\n",
       "token                                                \n",
       "easy to             0.008696  0.092717      10.662508\n",
       "really              0.008696  0.088334      10.158463\n",
       "explained           0.008696  0.065071       7.483142\n",
       "excellent           0.008696  0.055293       6.358732\n",
       "very good           0.008696  0.053608       6.164869\n",
       "great               0.026087  0.131827       5.053383\n",
       "easy to follow      0.008696  0.039784       4.575185\n",
       "easy to understand  0.008696  0.039447       4.536413\n",
       "very clear          0.008696  0.035064       4.032367\n",
       "good                0.060870  0.241403       3.965899\n",
       "awesome             0.008696  0.033715       3.877276\n",
       "clear               0.026087  0.100809       3.864352\n",
       "great course        0.008696  0.031693       3.644639\n",
       "interesting         0.008696  0.031018       3.567094\n",
       "easy                0.034783  0.115644       3.324764\n",
       "courses             0.008696  0.027647       3.179366\n",
       "amazing             0.008696  0.027310       3.140593\n",
       "everything          0.008696  0.027310       3.140593\n",
       "and easy            0.008696  0.023264       2.675320\n",
       "good course         0.008696  0.022927       2.636548\n",
       "pace                0.008696  0.022589       2.597775\n",
       "thank               0.008696  0.022252       2.559002\n",
       "well explained      0.008696  0.022252       2.559002\n",
       "teaching            0.008696  0.021915       2.520229\n",
       "love                0.008696  0.021578       2.481457\n",
       "hands               0.008696  0.021241       2.442684\n",
       "forward             0.008696  0.020904       2.403911\n",
       "practical           0.017391  0.041470       2.384525\n",
       "concise             0.008696  0.020566       2.365138\n",
       "hands on            0.008696  0.020229       2.326365\n",
       "thank you           0.008696  0.019892       2.287593\n",
       "and easy to         0.008696  0.019218       2.210047\n",
       "hadelin             0.008696  0.018543       2.132502\n",
       "with the            0.008696  0.018543       2.132502\n",
       "course and          0.008696  0.018206       2.093729\n",
       "follow              0.026087  0.054282       2.080805\n",
       "course to           0.008696  0.017869       2.054956\n",
       "the way             0.008696  0.017869       2.054956\n",
       "step                0.026087  0.052596       2.016183\n",
       "job                 0.008696  0.017532       2.016183\n",
       "are very            0.008696  0.017195       1.977411\n",
       "best                0.017391  0.033715       1.938638\n",
       "nice                0.017391  0.032704       1.880479\n",
       "like the            0.008696  0.016183       1.861092\n",
       "to follow           0.026087  0.048213       1.848168\n",
       "excellent course    0.008696  0.015846       1.822320\n",
       "course for          0.008696  0.015846       1.822320\n",
       "very                0.156522  0.281861       1.800779\n",
       "detail              0.008696  0.015509       1.783547\n",
       "informative         0.008696  0.015509       1.783547"
      ]
     },
     "execution_count": 233,
     "metadata": {},
     "output_type": "execute_result"
    }
   ],
   "source": [
    "tokens.sort_values('pos_neg_ratio', ascending=False).head(50)"
   ]
  },
  {
   "cell_type": "markdown",
   "metadata": {},
   "source": [
    "### Words related to a negative review\n",
    "Below follows a list of the top 50 phrases that are most associated with a negative review. Some examples: unsatisfied students in this specific course say that it is `\"superficial\"`, `\"too basic\"`, a `\"bit too slow\"` and it seems like they aren't as pleased about the course `\"quizzes\"`."
   ]
  },
  {
   "cell_type": "code",
   "execution_count": 234,
   "metadata": {},
   "outputs": [
    {
     "data": {
      "text/html": [
       "<div>\n",
       "<table border=\"1\" class=\"dataframe\">\n",
       "  <thead>\n",
       "    <tr style=\"text-align: right;\">\n",
       "      <th></th>\n",
       "      <th>neg</th>\n",
       "      <th>pos</th>\n",
       "      <th>pos_neg_ratio</th>\n",
       "    </tr>\n",
       "    <tr>\n",
       "      <th>token</th>\n",
       "      <th></th>\n",
       "      <th></th>\n",
       "      <th></th>\n",
       "    </tr>\n",
       "  </thead>\n",
       "  <tbody>\n",
       "    <tr>\n",
       "      <th>too basic</th>\n",
       "      <td>0.060870</td>\n",
       "      <td>0.001686</td>\n",
       "      <td>0.027695</td>\n",
       "    </tr>\n",
       "    <tr>\n",
       "      <th>did not</th>\n",
       "      <td>0.052174</td>\n",
       "      <td>0.001686</td>\n",
       "      <td>0.032311</td>\n",
       "    </tr>\n",
       "    <tr>\n",
       "      <th>do not</th>\n",
       "      <td>0.060870</td>\n",
       "      <td>0.002360</td>\n",
       "      <td>0.038773</td>\n",
       "    </tr>\n",
       "    <tr>\n",
       "      <th>low</th>\n",
       "      <td>0.043478</td>\n",
       "      <td>0.002023</td>\n",
       "      <td>0.046527</td>\n",
       "    </tr>\n",
       "    <tr>\n",
       "      <th>actual</th>\n",
       "      <td>0.043478</td>\n",
       "      <td>0.002023</td>\n",
       "      <td>0.046527</td>\n",
       "    </tr>\n",
       "    <tr>\n",
       "      <th>talk</th>\n",
       "      <td>0.052174</td>\n",
       "      <td>0.002697</td>\n",
       "      <td>0.051697</td>\n",
       "    </tr>\n",
       "    <tr>\n",
       "      <th>bad</th>\n",
       "      <td>0.043478</td>\n",
       "      <td>0.002360</td>\n",
       "      <td>0.054282</td>\n",
       "    </tr>\n",
       "    <tr>\n",
       "      <th>very basic</th>\n",
       "      <td>0.034783</td>\n",
       "      <td>0.002023</td>\n",
       "      <td>0.058159</td>\n",
       "    </tr>\n",
       "    <tr>\n",
       "      <th>linear regression</th>\n",
       "      <td>0.052174</td>\n",
       "      <td>0.003034</td>\n",
       "      <td>0.058159</td>\n",
       "    </tr>\n",
       "    <tr>\n",
       "      <th>hours</th>\n",
       "      <td>0.043478</td>\n",
       "      <td>0.002697</td>\n",
       "      <td>0.062036</td>\n",
       "    </tr>\n",
       "    <tr>\n",
       "      <th>boring</th>\n",
       "      <td>0.052174</td>\n",
       "      <td>0.003372</td>\n",
       "      <td>0.064621</td>\n",
       "    </tr>\n",
       "    <tr>\n",
       "      <th>rstudio</th>\n",
       "      <td>0.034783</td>\n",
       "      <td>0.002360</td>\n",
       "      <td>0.067852</td>\n",
       "    </tr>\n",
       "    <tr>\n",
       "      <th>true</th>\n",
       "      <td>0.034783</td>\n",
       "      <td>0.002360</td>\n",
       "      <td>0.067852</td>\n",
       "    </tr>\n",
       "    <tr>\n",
       "      <th>written</th>\n",
       "      <td>0.034783</td>\n",
       "      <td>0.002360</td>\n",
       "      <td>0.067852</td>\n",
       "    </tr>\n",
       "    <tr>\n",
       "      <th>anaconda</th>\n",
       "      <td>0.034783</td>\n",
       "      <td>0.002360</td>\n",
       "      <td>0.067852</td>\n",
       "    </tr>\n",
       "    <tr>\n",
       "      <th>linear</th>\n",
       "      <td>0.052174</td>\n",
       "      <td>0.003709</td>\n",
       "      <td>0.071083</td>\n",
       "    </tr>\n",
       "    <tr>\n",
       "      <th>he is</th>\n",
       "      <td>0.060870</td>\n",
       "      <td>0.004383</td>\n",
       "      <td>0.072007</td>\n",
       "    </tr>\n",
       "    <tr>\n",
       "      <th>spent</th>\n",
       "      <td>0.043478</td>\n",
       "      <td>0.003372</td>\n",
       "      <td>0.077546</td>\n",
       "    </tr>\n",
       "    <tr>\n",
       "      <th>something</th>\n",
       "      <td>0.069565</td>\n",
       "      <td>0.005394</td>\n",
       "      <td>0.077546</td>\n",
       "    </tr>\n",
       "    <tr>\n",
       "      <th>we are</th>\n",
       "      <td>0.052174</td>\n",
       "      <td>0.004046</td>\n",
       "      <td>0.077546</td>\n",
       "    </tr>\n",
       "    <tr>\n",
       "      <th>computer</th>\n",
       "      <td>0.043478</td>\n",
       "      <td>0.003372</td>\n",
       "      <td>0.077546</td>\n",
       "    </tr>\n",
       "    <tr>\n",
       "      <th>difficult to</th>\n",
       "      <td>0.034783</td>\n",
       "      <td>0.002697</td>\n",
       "      <td>0.077546</td>\n",
       "    </tr>\n",
       "    <tr>\n",
       "      <th>opinion</th>\n",
       "      <td>0.034783</td>\n",
       "      <td>0.002697</td>\n",
       "      <td>0.077546</td>\n",
       "    </tr>\n",
       "    <tr>\n",
       "      <th>are not</th>\n",
       "      <td>0.060870</td>\n",
       "      <td>0.005057</td>\n",
       "      <td>0.083084</td>\n",
       "    </tr>\n",
       "    <tr>\n",
       "      <th>again</th>\n",
       "      <td>0.043478</td>\n",
       "      <td>0.003709</td>\n",
       "      <td>0.085300</td>\n",
       "    </tr>\n",
       "    <tr>\n",
       "      <th>talking</th>\n",
       "      <td>0.034783</td>\n",
       "      <td>0.003034</td>\n",
       "      <td>0.087239</td>\n",
       "    </tr>\n",
       "    <tr>\n",
       "      <th>wasted</th>\n",
       "      <td>0.026087</td>\n",
       "      <td>0.002360</td>\n",
       "      <td>0.090470</td>\n",
       "    </tr>\n",
       "    <tr>\n",
       "      <th>if you have</th>\n",
       "      <td>0.026087</td>\n",
       "      <td>0.002360</td>\n",
       "      <td>0.090470</td>\n",
       "    </tr>\n",
       "    <tr>\n",
       "      <th>early to</th>\n",
       "      <td>0.026087</td>\n",
       "      <td>0.002360</td>\n",
       "      <td>0.090470</td>\n",
       "    </tr>\n",
       "    <tr>\n",
       "      <th>hard to</th>\n",
       "      <td>0.026087</td>\n",
       "      <td>0.002360</td>\n",
       "      <td>0.090470</td>\n",
       "    </tr>\n",
       "    <tr>\n",
       "      <th>programs</th>\n",
       "      <td>0.026087</td>\n",
       "      <td>0.002360</td>\n",
       "      <td>0.090470</td>\n",
       "    </tr>\n",
       "    <tr>\n",
       "      <th>python code</th>\n",
       "      <td>0.026087</td>\n",
       "      <td>0.002360</td>\n",
       "      <td>0.090470</td>\n",
       "    </tr>\n",
       "    <tr>\n",
       "      <th>type</th>\n",
       "      <td>0.026087</td>\n",
       "      <td>0.002360</td>\n",
       "      <td>0.090470</td>\n",
       "    </tr>\n",
       "    <tr>\n",
       "      <th>for this course</th>\n",
       "      <td>0.026087</td>\n",
       "      <td>0.002360</td>\n",
       "      <td>0.090470</td>\n",
       "    </tr>\n",
       "    <tr>\n",
       "      <th>does not</th>\n",
       "      <td>0.034783</td>\n",
       "      <td>0.003372</td>\n",
       "      <td>0.096932</td>\n",
       "    </tr>\n",
       "    <tr>\n",
       "      <th>too much</th>\n",
       "      <td>0.060870</td>\n",
       "      <td>0.006069</td>\n",
       "      <td>0.099701</td>\n",
       "    </tr>\n",
       "    <tr>\n",
       "      <th>is not</th>\n",
       "      <td>0.095652</td>\n",
       "      <td>0.009777</td>\n",
       "      <td>0.102219</td>\n",
       "    </tr>\n",
       "    <tr>\n",
       "      <th>dive</th>\n",
       "      <td>0.026087</td>\n",
       "      <td>0.002697</td>\n",
       "      <td>0.103394</td>\n",
       "    </tr>\n",
       "    <tr>\n",
       "      <th>change</th>\n",
       "      <td>0.026087</td>\n",
       "      <td>0.002697</td>\n",
       "      <td>0.103394</td>\n",
       "    </tr>\n",
       "    <tr>\n",
       "      <th>set up</th>\n",
       "      <td>0.026087</td>\n",
       "      <td>0.002697</td>\n",
       "      <td>0.103394</td>\n",
       "    </tr>\n",
       "    <tr>\n",
       "      <th>about this course</th>\n",
       "      <td>0.026087</td>\n",
       "      <td>0.002697</td>\n",
       "      <td>0.103394</td>\n",
       "    </tr>\n",
       "    <tr>\n",
       "      <th>itself</th>\n",
       "      <td>0.026087</td>\n",
       "      <td>0.002697</td>\n",
       "      <td>0.103394</td>\n",
       "    </tr>\n",
       "    <tr>\n",
       "      <th>it looks</th>\n",
       "      <td>0.026087</td>\n",
       "      <td>0.002697</td>\n",
       "      <td>0.103394</td>\n",
       "    </tr>\n",
       "    <tr>\n",
       "      <th>have done</th>\n",
       "      <td>0.026087</td>\n",
       "      <td>0.002697</td>\n",
       "      <td>0.103394</td>\n",
       "    </tr>\n",
       "    <tr>\n",
       "      <th>people who</th>\n",
       "      <td>0.026087</td>\n",
       "      <td>0.002697</td>\n",
       "      <td>0.103394</td>\n",
       "    </tr>\n",
       "    <tr>\n",
       "      <th>logic</th>\n",
       "      <td>0.026087</td>\n",
       "      <td>0.002697</td>\n",
       "      <td>0.103394</td>\n",
       "    </tr>\n",
       "    <tr>\n",
       "      <th>the videos are</th>\n",
       "      <td>0.026087</td>\n",
       "      <td>0.002697</td>\n",
       "      <td>0.103394</td>\n",
       "    </tr>\n",
       "    <tr>\n",
       "      <th>with this course</th>\n",
       "      <td>0.026087</td>\n",
       "      <td>0.002697</td>\n",
       "      <td>0.103394</td>\n",
       "    </tr>\n",
       "    <tr>\n",
       "      <th>it just</th>\n",
       "      <td>0.026087</td>\n",
       "      <td>0.002697</td>\n",
       "      <td>0.103394</td>\n",
       "    </tr>\n",
       "    <tr>\n",
       "      <th>ok</th>\n",
       "      <td>0.026087</td>\n",
       "      <td>0.002697</td>\n",
       "      <td>0.103394</td>\n",
       "    </tr>\n",
       "  </tbody>\n",
       "</table>\n",
       "</div>"
      ],
      "text/plain": [
       "                        neg       pos  pos_neg_ratio\n",
       "token                                               \n",
       "too basic          0.060870  0.001686       0.027695\n",
       "did not            0.052174  0.001686       0.032311\n",
       "do not             0.060870  0.002360       0.038773\n",
       "low                0.043478  0.002023       0.046527\n",
       "actual             0.043478  0.002023       0.046527\n",
       "talk               0.052174  0.002697       0.051697\n",
       "bad                0.043478  0.002360       0.054282\n",
       "very basic         0.034783  0.002023       0.058159\n",
       "linear regression  0.052174  0.003034       0.058159\n",
       "hours              0.043478  0.002697       0.062036\n",
       "boring             0.052174  0.003372       0.064621\n",
       "rstudio            0.034783  0.002360       0.067852\n",
       "true               0.034783  0.002360       0.067852\n",
       "written            0.034783  0.002360       0.067852\n",
       "anaconda           0.034783  0.002360       0.067852\n",
       "linear             0.052174  0.003709       0.071083\n",
       "he is              0.060870  0.004383       0.072007\n",
       "spent              0.043478  0.003372       0.077546\n",
       "something          0.069565  0.005394       0.077546\n",
       "we are             0.052174  0.004046       0.077546\n",
       "computer           0.043478  0.003372       0.077546\n",
       "difficult to       0.034783  0.002697       0.077546\n",
       "opinion            0.034783  0.002697       0.077546\n",
       "are not            0.060870  0.005057       0.083084\n",
       "again              0.043478  0.003709       0.085300\n",
       "talking            0.034783  0.003034       0.087239\n",
       "wasted             0.026087  0.002360       0.090470\n",
       "if you have        0.026087  0.002360       0.090470\n",
       "early to           0.026087  0.002360       0.090470\n",
       "hard to            0.026087  0.002360       0.090470\n",
       "programs           0.026087  0.002360       0.090470\n",
       "python code        0.026087  0.002360       0.090470\n",
       "type               0.026087  0.002360       0.090470\n",
       "for this course    0.026087  0.002360       0.090470\n",
       "does not           0.034783  0.003372       0.096932\n",
       "too much           0.060870  0.006069       0.099701\n",
       "is not             0.095652  0.009777       0.102219\n",
       "dive               0.026087  0.002697       0.103394\n",
       "change             0.026087  0.002697       0.103394\n",
       "set up             0.026087  0.002697       0.103394\n",
       "about this course  0.026087  0.002697       0.103394\n",
       "itself             0.026087  0.002697       0.103394\n",
       "it looks           0.026087  0.002697       0.103394\n",
       "have done          0.026087  0.002697       0.103394\n",
       "people who         0.026087  0.002697       0.103394\n",
       "logic              0.026087  0.002697       0.103394\n",
       "the videos are     0.026087  0.002697       0.103394\n",
       "with this course   0.026087  0.002697       0.103394\n",
       "it just            0.026087  0.002697       0.103394\n",
       "ok                 0.026087  0.002697       0.103394"
      ]
     },
     "execution_count": 234,
     "metadata": {},
     "output_type": "execute_result"
    }
   ],
   "source": [
    "tokens.sort_values('pos_neg_ratio', ascending=True).head(50)"
   ]
  }
 ],
 "metadata": {
  "kernelspec": {
   "display_name": "Python 3",
   "language": "python",
   "name": "python3"
  },
  "language_info": {
   "codemirror_mode": {
    "name": "ipython",
    "version": 3
   },
   "file_extension": ".py",
   "mimetype": "text/x-python",
   "name": "python",
   "nbconvert_exporter": "python",
   "pygments_lexer": "ipython3",
   "version": "3.6.0"
  }
 },
 "nbformat": 4,
 "nbformat_minor": 2
}
